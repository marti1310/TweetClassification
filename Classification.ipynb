{
  "cells": [
    {
      "cell_type": "markdown",
      "metadata": {
        "id": "view-in-github",
        "colab_type": "text"
      },
      "source": [
        "<a href=\"https://colab.research.google.com/github/marti1310/TweetClassification/blob/main/Classification.ipynb\" target=\"_parent\"><img src=\"https://colab.research.google.com/assets/colab-badge.svg\" alt=\"Open In Colab\"/></a>"
      ]
    },
    {
      "cell_type": "markdown",
      "source": [
        "# Groupe 14\n",
        "- AGÜERA SANCHEZ Martina (22101917)\n",
        "- BOUBY Lucien (22011624)\n",
        "- GONG Ni (22025419)\n",
        "- MACKOW Anaïs (22016204)"
      ],
      "metadata": {
        "id": "H32vMASac0B6"
      }
    },
    {
      "cell_type": "markdown",
      "source": [
        "# Installations"
      ],
      "metadata": {
        "id": "C8WZnFar2y4l"
      }
    },
    {
      "cell_type": "code",
      "execution_count": null,
      "metadata": {
        "id": "DAZ76zhGxpm1"
      },
      "outputs": [],
      "source": [
        "!pip install optuna\n",
        "!pip install emoji\n",
        "!pip install imblearn\n",
        "!pip install langdetect\n",
        "!pip install xgboost\n",
        "!pip install tensorflow\n",
        "!pip install transformers\n",
        "!pip install torch\n",
        "!pip install gensim\n",
        "!pip install scikit-multilearn"
      ]
    },
    {
      "cell_type": "code",
      "execution_count": null,
      "metadata": {
        "id": "VZi3Kyo2xN7z",
        "collapsed": true
      },
      "outputs": [],
      "source": [
        "import os\n",
        "import sys\n",
        "import warnings\n",
        "import pandas as pd\n",
        "import numpy as np\n",
        "import matplotlib.pyplot as plt\n",
        "import optuna\n",
        "import logging\n",
        "import nltk\n",
        "import emoji\n",
        "import re\n",
        "import string\n",
        "import plotly.express as px\n",
        "import statistics\n",
        "import xgboost\n",
        "import seaborn as sns\n",
        "import spacy\n",
        "\n",
        "\n",
        "from sklearn.decomposition import TruncatedSVD\n",
        "from collections import Counter\n",
        "from sklearn.preprocessing import LabelEncoder\n",
        "from sklearn.multiclass import OneVsOneClassifier\n",
        "from sklearn.multiclass import OneVsRestClassifier\n",
        "from google.colab import drive\n",
        "from joblib import load\n",
        "from IPython.display import display\n",
        "from sklearn import datasets\n",
        "from sklearn.utils import shuffle\n",
        "from sklearn.model_selection import train_test_split, cross_validate, StratifiedKFold\n",
        "from sklearn.metrics import confusion_matrix, classification_report, accuracy_score, precision_recall_fscore_support as score, make_scorer, precision_score, f1_score, recall_score\n",
        "from sklearn.preprocessing import StandardScaler\n",
        "from sklearn.naive_bayes import GaussianNB, MultinomialNB\n",
        "from sklearn.linear_model import LogisticRegression\n",
        "from sklearn.tree import DecisionTreeClassifier\n",
        "from sklearn.neighbors import KNeighborsClassifier\n",
        "from sklearn.svm import SVC\n",
        "from sklearn.ensemble import RandomForestClassifier\n",
        "from sklearn.model_selection import KFold, cross_val_score, GridSearchCV, RandomizedSearchCV\n",
        "from sklearn.decomposition import PCA, TruncatedSVD\n",
        "from sklearn.pipeline import Pipeline\n",
        "from langdetect import detect\n",
        "from nltk.stem import WordNetLemmatizer\n",
        "from nltk import pos_tag, word_tokenize\n",
        "from nltk.corpus import stopwords\n",
        "from nltk.tokenize import word_tokenize\n",
        "from sklearn.feature_extraction.text import TfidfVectorizer\n",
        "from imblearn.over_sampling import SMOTE\n",
        "from gensim.models import Word2Vec\n",
        "from sklearn.model_selection import train_test_split\n",
        "from tensorflow.keras.preprocessing.text import Tokenizer\n",
        "from tensorflow.keras.preprocessing.sequence import pad_sequences\n",
        "from tensorflow.keras.models import Sequential\n",
        "from tensorflow.keras.layers import Embedding, LSTM, Dense, Dropout\n",
        "from tensorflow.keras.optimizers import Adam\n",
        "from sklearn.feature_extraction.text import CountVectorizer\n",
        "from sklearn.preprocessing import MultiLabelBinarizer\n",
        "from sklearn.multioutput import MultiOutputClassifier\n",
        "from sklearn.metrics import multilabel_confusion_matrix\n",
        "from skmultilearn.problem_transform import LabelPowerset\n",
        "from sklearn.multiclass import OneVsOneClassifier\n",
        "from sklearn.multioutput import ClassifierChain\n",
        "\n",
        "\n",
        "drive.mount('/content/gdrive')\n",
        "warnings.filterwarnings(\"ignore\", category=FutureWarning)\n",
        "logging.getLogger(\"optuna\").setLevel(logging.WARNING)\n",
        "nltk.download('wordnet')\n",
        "nltk.download('stopwords')\n",
        "nltk.download('punkt')"
      ]
    },
    {
      "cell_type": "code",
      "source": [
        "local = '/content/gdrive/MyDrive/Colab Notebooks/ML1/Projet'\n",
        "os.chdir(local)\n",
        "os.getcwd()"
      ],
      "metadata": {
        "colab": {
          "base_uri": "https://localhost:8080/",
          "height": 35
        },
        "id": "8cgCeuPF3Jtx",
        "outputId": "e843efd4-40ee-4d58-edc4-1a5753e4c046"
      },
      "execution_count": null,
      "outputs": [
        {
          "output_type": "execute_result",
          "data": {
            "text/plain": [
              "'/content/gdrive/MyDrive/Colab Notebooks/ML1/Projet'"
            ],
            "application/vnd.google.colaboratory.intrinsic+json": {
              "type": "string"
            }
          },
          "metadata": {},
          "execution_count": 60
        }
      ]
    },
    {
      "cell_type": "markdown",
      "metadata": {
        "id": "RUJwvL5U1vJk"
      },
      "source": [
        "#PREPROCESSING\n",
        "1. Expand abbreviations\n",
        "2. Replace URL, year, number\n",
        "3. Lower case\n",
        "4. Remove mentions, hashtags, emojis\n",
        "5. Lemmatisation"
      ]
    },
    {
      "cell_type": "code",
      "source": [
        "TWITTER_ABBREVIATIONS = {\n",
        "    \"u\": \"you\",\n",
        "    \"ur\": \"your\",\n",
        "    \"r\": \"are\",\n",
        "    \"y\": \"why\",\n",
        "    \"pls\": \"please\",\n",
        "    \"plz\": \"please\",\n",
        "    \"thx\": \"thanks\",\n",
        "    \"k\": \"okay\",\n",
        "    \"lol\": \"laughing out loud\",\n",
        "    \"idk\": \"i do not know\",\n",
        "    \"imo\": \"in my opinion\",\n",
        "    \"lmao\": \"laughing my ass off\",\n",
        "    \"brb\": \"be right back\",\n",
        "    \"btw\": \"by the way\",\n",
        "    \"omg\": \"oh my god\",\n",
        "    \"ttyl\": \"talk to you later\",\n",
        "    \"smh\": \"shaking my head\",\n",
        "    \"fyi\": \"for your information\",\n",
        "    \"ppl\": \"people\",\n",
        "    \"some1\": \"someone\",\n",
        "    \"b4\": \"before\",\n",
        "    \"gr8\": \"great\",\n",
        "    \"bff\": \"best friends forever\",\n",
        "    \"wtf\": \"what the fuck\",\n",
        "    \"tbh\": \"to be honest\",\n",
        "    \"bc\": \"because\",\n",
        "    \"nvm\": \"never mind\",\n",
        "    \"u2\": \"you too\",\n",
        "    \"cuz\": \"because\",\n",
        "    \"wanna\": \"want to\",\n",
        "    \"gonna\": \"going to\",\n",
        "    \"ab\": \"about\", \"abt\": \"about\", \"b/c\": \"because\", \"b\": \"be\", \"b4\": \"before\",\n",
        "    \"bfn\": \"bye for now\", \"bgd\": \"background\", \"br\": \"best regards\", \"btw\": \"by the way\",\n",
        "    \"chk\": \"check\", \"cld\": \"could\", \"clk\": \"click\", \"cre8\": \"create\", \"da\": \"the\",\n",
        "    \"deets\": \"details\", \"dm\": \"direct message\", \"em\": \"email\", \"eml\": \"email\",\n",
        "    \"ema\": \"email address\", \"f2f\": \"face to face\", \"fab\": \"fabulous\", \"ff\": \"followfriday\",\n",
        "    \"ftl\": \"for the loss\", \"ftw\": \"for the win\", \"hand\": \"have a nice day\", \"ht\": \"hat tip\",\n",
        "    \"ic\": \"i see\", \"icymi\": \"in case you missed it\", \"idk\": \"i don't know\", \"imo\": \"in my opinion\",\n",
        "    \"kk\": \"okay\", \"mtf\": \"more to follow\", \"nts\": \"note to self\", \"oh\": \"overheard\",\n",
        "    \"prt\": \"please retweet\", \"rt\": \"retweet\", \"smh\": \"shaking my head\", \"sns\": \"social networking site\",\n",
        "    \"sp\": \"sponsored\", \"tbh\": \"to be honest\", \"tbt\": \"throwback thursday\", \"tftf\": \"thanks for the follow\",\n",
        "    \"tmb\": \"tweet me back\", \"u\": \"you\", \"woz\": \"was\", \"wtv\": \"whatever\", \"ykyat\": \"you know you're addicted to\",\n",
        "    \"yolo\": \"you only live once\", \"yoyo\": \"you're on your own\"\n",
        "}\n",
        "\n",
        "\n"
      ],
      "metadata": {
        "id": "SFJr1Dp8pFI8"
      },
      "execution_count": null,
      "outputs": []
    },
    {
      "cell_type": "code",
      "execution_count": null,
      "metadata": {
        "id": "sCjTZssz1W6r",
        "colab": {
          "base_uri": "https://localhost:8080/"
        },
        "outputId": "73fcdb97-da7e-4c3a-a82b-d6452d8ce3b2"
      },
      "outputs": [
        {
          "output_type": "stream",
          "name": "stderr",
          "text": [
            "[nltk_data] Downloading package punkt_tab to /root/nltk_data...\n",
            "[nltk_data]   Package punkt_tab is already up-to-date!\n"
          ]
        }
      ],
      "source": [
        "import nltk\n",
        "nltk.download('punkt_tab')\n",
        "stop_words = set(stopwords.words('english'))\n",
        "lemmatizer = WordNetLemmatizer()\n",
        "\n",
        "def expand_abbreviations(text, abbreviations_dict=TWITTER_ABBREVIATIONS):\n",
        "    words = text.split()\n",
        "    expanded_words = []\n",
        "    for word in words:\n",
        "        # Nettoyage ponctuel pour uniformiser\n",
        "        word_clean = re.sub(r'\\W+', '', word.lower())  # supprime la ponctuation pour matcher\n",
        "        if word_clean in abbreviations_dict:\n",
        "            expanded = abbreviations_dict[word_clean]\n",
        "            expanded_words.append(expanded)\n",
        "        else:\n",
        "            expanded_words.append(word)\n",
        "    return ' '.join(expanded_words)\n",
        "\n",
        "\n",
        "def remove_stopwords(text, lang):\n",
        "    stop_words = set(stopwords.words(lang))  # ou 'english'\n",
        "\n",
        "    words = word_tokenize(text)\n",
        "    return ' '.join([w for w in words if w.lower() not in stop_words])\n",
        "\n",
        "def remove_punctuation(text):\n",
        "    # remplace les guillemets et apostrophes typographiques par leurs équivalents ASCII\n",
        "    text = text.replace(\"“\", '\"').replace(\"”\", '\"').replace(\"’\", \"'\")\n",
        "\n",
        "    # supprime toute ponctuation ASCII standard\n",
        "    return text.translate(str.maketrans('', '', string.punctuation))\n",
        "\n",
        "def replace(text, rep):\n",
        "  if (rep == 0):\n",
        "    text = re.sub(r\"http\\S+|www\\S+\", \"\", text)\n",
        "    text = re.sub(r\"\\b(19|20)\\d{2}\\b\", \"year\", text)\n",
        "    text = re.sub(r'\\b\\d+(\\.\\d+)?\\b', '', text)\n",
        "  else:\n",
        "    text = re.sub(r\"http\\S+|www\\S+\", \"url\", text)\n",
        "    text = re.sub(r\"\\b(19|20)\\d{2}\\b\", \"year\", text)\n",
        "    text = re.sub(r'\\b\\d+(\\.\\d+)?\\b', 'num', text)\n",
        "  return text\n",
        "\n",
        "def preprocess(text):\n",
        "  text = text.lower()\n",
        "  text = re.sub(r\"@\\w+\", '', text)  # mentions\n",
        "  text = re.sub(r\"#\", \"\", text)\n",
        "  text = text.translate(str.maketrans('', '', string.punctuation))\n",
        "  text = emoji.demojize(text)\n",
        "\n",
        "  return text\n",
        "\n",
        "def lem_words(text):\n",
        "    tokens = word_tokenize(text)\n",
        "    tokens = [lemmatizer.lemmatize(w) for w in tokens if w not in stop_words]\n",
        "    return \" \".join(tokens)\n",
        "\n",
        "def full_clean(text):\n",
        "    text = expand_abbreviations(text)\n",
        "    text = replace(text, 0)\n",
        "    text = preprocess(text)\n",
        "    text = remove_punctuation(text)\n",
        "    text = lem_words(text)\n",
        "    return text\n",
        "\n"
      ]
    },
    {
      "cell_type": "markdown",
      "source": [
        "#Définitions de fonctions"
      ],
      "metadata": {
        "id": "QY8TML0K2nmX"
      }
    },
    {
      "cell_type": "code",
      "execution_count": null,
      "metadata": {
        "id": "KBu1-aUM6Eoz"
      },
      "outputs": [],
      "source": [
        "def tfidf_vectorizer(df_text):\n",
        "  tfidf = TfidfVectorizer(max_features=100, stop_words='english',ngram_range=(1, 3))\n",
        "  df_listed = df_text.tolist()\n",
        "  vect = tfidf.fit_transform(df_listed)\n",
        "\n",
        "  return vect\n"
      ]
    },
    {
      "cell_type": "code",
      "source": [
        "def word2vec_vectorizer(df_text):\n",
        "    cleaned_text = df_text.apply(full_clean)\n",
        "    tokenized_text = cleaned_text.apply(lambda x: word_tokenize(x))\n",
        "    model = Word2Vec(sentences=tokenized_text, vector_size=100, window=5, min_count=1, workers=4)\n",
        "\n",
        "    vectors = tokenized_text.apply(lambda x: np.mean([model.wv[word] for word in x if word in model.wv], axis=0) if len(x) > 0 else np.zeros(100))\n",
        "\n",
        "\n",
        "    vectors = vectors.apply(lambda x: x if isinstance(x, np.ndarray) else np.zeros(100))\n",
        "\n",
        "    return np.array(vectors.tolist())\n"
      ],
      "metadata": {
        "id": "cZ7MORWmudX1"
      },
      "execution_count": null,
      "outputs": []
    },
    {
      "cell_type": "code",
      "execution_count": null,
      "metadata": {
        "id": "8Qcd8bnf6e58"
      },
      "outputs": [],
      "source": [
        "def visualisation_3D(text, labels):\n",
        "  svd = TruncatedSVD(n_components=3, random_state=42)\n",
        "  X = svd.fit_transform(text)\n",
        "\n",
        "  df_3d = pd.DataFrame(X, columns=[\"x\", \"y\", \"z\"])\n",
        "  df_3d[\"label\"] = labels.values\n",
        "\n",
        "  fig = px.scatter_3d(df_3d, x=\"x\", y=\"y\", z=\"z\",\n",
        "                    color=\"label\", title=\"TF-IDF + SVD (3D)\")\n",
        "  fig.show()\n"
      ]
    },
    {
      "cell_type": "code",
      "source": [
        "def plot_boxplot(f1_scores, task_name):\n",
        "    plt.figure(figsize=(10, 6))\n",
        "    sns.boxplot(data=pd.DataFrame(f1_scores))\n",
        "    plt.title(f'Distribution des scores F1 pour {task_name}')\n",
        "    plt.ylabel('Score F1')\n",
        "    plt.xlabel('Classificateur')\n",
        "    plt.xticks(rotation=45)\n",
        "    plt.tight_layout()\n",
        "    plt.savefig(f'{task_name.replace(\" \", \"_\")}_boxplot.png')\n",
        "    plt.show()"
      ],
      "metadata": {
        "id": "WmrYRnhaoEFf"
      },
      "execution_count": null,
      "outputs": []
    },
    {
      "cell_type": "code",
      "execution_count": null,
      "metadata": {
        "id": "ltvBDK7h8C8j"
      },
      "outputs": [],
      "source": [
        "def optimize_hyperparameters(classifier_name, X_train, y_train, n_trials=20):\n",
        "    def objective(trial):\n",
        "        if classifier_name == 'RandomForestClassifier':\n",
        "            n_estimators = trial.suggest_int('n_estimators', 10, 200)\n",
        "            max_depth = trial.suggest_int('max_depth', 2, 32, log=True)\n",
        "            clf = RandomForestClassifier(n_estimators=n_estimators, max_depth=max_depth,\n",
        "                                         class_weight='balanced', random_state=42)\n",
        "\n",
        "        elif classifier_name == 'SVC':\n",
        "            C = trial.suggest_float('C', 1e-3, 1e2, log=True)\n",
        "            kernel = trial.suggest_categorical('kernel', ['linear', 'rbf', 'poly'])\n",
        "            gamma = trial.suggest_float('gamma', 1e-4, 1e-1, log=True)\n",
        "            clf = SVC(C=C, kernel=kernel, gamma=gamma, class_weight='balanced', probability=True)\n",
        "\n",
        "        elif classifier_name == 'MultinomialNB':\n",
        "            alpha = trial.suggest_float('alpha', 1e-3, 1.0, log=True)\n",
        "            clf = MultinomialNB(alpha=alpha)\n",
        "\n",
        "        elif classifier_name == 'KNeighborsClassifier':\n",
        "            n_neighbors = trial.suggest_int('n_neighbors', 1, 50)\n",
        "            weights = trial.suggest_categorical('weights', ['uniform', 'distance'])\n",
        "            clf = KNeighborsClassifier(n_neighbors=n_neighbors, weights=weights)\n",
        "\n",
        "        elif classifier_name == 'DecisionTreeClassifier':\n",
        "            max_depth = trial.suggest_int('max_depth', 2, 32, log=True)\n",
        "            criterion = trial.suggest_categorical('criterion', ['gini', 'entropy', 'log_loss'])\n",
        "            clf = DecisionTreeClassifier(max_depth=max_depth, criterion=criterion,\n",
        "                                         class_weight='balanced', random_state=42)\n",
        "\n",
        "        elif classifier_name == 'LogisticRegression':\n",
        "            C = trial.suggest_float('C', 1e-3, 1e2, log=True)\n",
        "            solver = trial.suggest_categorical('solver', ['lbfgs', 'liblinear', 'saga'])\n",
        "            clf = LogisticRegression(C=C, solver=solver, class_weight='balanced',\n",
        "                                     max_iter=1000, random_state=42)\n",
        "        elif classifier_name == 'xgboost':\n",
        "            max_depth = trial.suggest_int('max_depth', 2, 32, log=True)\n",
        "            learning_rate = trial.suggest_float('learning_rate', 1e-5, 1e-1, log=True)\n",
        "            n_estimators = trial.suggest_int('n_estimators', 10, 1000, log=True)\n",
        "            clf = xgboost.XGBClassifier(max_depth=max_depth, learning_rate=learning_rate, n_estimators=n_estimators)\n",
        "\n",
        "        # Cross-validation interne à Optuna\n",
        "        cv = StratifiedKFold(n_splits=5, shuffle=True, random_state=42)\n",
        "        scorer = make_scorer(f1_score, zero_division=0)\n",
        "        score = cross_val_score(clf, X_train, y_train, cv=cv, scoring=scorer).mean()\n",
        "        return score\n",
        "\n",
        "\n",
        "\n",
        "    study = optuna.create_study(direction=\"maximize\")\n",
        "    study.optimize(objective, n_trials=n_trials)\n",
        "    return study.best_params"
      ]
    },
    {
      "cell_type": "code",
      "execution_count": null,
      "metadata": {
        "id": "AmAhbuF18YKL"
      },
      "outputs": [],
      "source": [
        "def test_optuna_binary(X, y):\n",
        "  best_f1 = 0.0\n",
        "  names = \"\"\n",
        "  model = None\n",
        "  seed = 42\n",
        "  models = []\n",
        "  all_f1_scores = {}\n",
        "\n",
        "\n",
        "  for clf_name in ['RandomForestClassifier', 'SVC', 'MultinomialNB', 'KNeighborsClassifier', 'DecisionTreeClassifier', 'LogisticRegression', 'xgboost']:\n",
        "      print(f\"\\nOptimisation pour : {clf_name}\")\n",
        "      best_params = optimize_hyperparameters(clf_name, X, y, n_trials=20)\n",
        "      print(\"Meilleurs paramètres :\", best_params)\n",
        "\n",
        "      if clf_name == \"RandomForestClassifier\":\n",
        "          model = RandomForestClassifier(**best_params, class_weight='balanced', random_state=seed)\n",
        "      elif clf_name == \"SVC\":\n",
        "          model = SVC(**best_params, class_weight='balanced', probability=True)\n",
        "      elif clf_name == \"MultinomialNB\":\n",
        "          model = MultinomialNB(**best_params)\n",
        "      elif clf_name == \"KNeighborsClassifier\":\n",
        "          model = KNeighborsClassifier(**best_params)\n",
        "      elif clf_name == \"DecisionTreeClassifier\":\n",
        "          model = DecisionTreeClassifier(**best_params, class_weight='balanced', random_state=seed)\n",
        "      elif clf_name == \"LogisticRegression\":\n",
        "          model = LogisticRegression(**best_params, class_weight='balanced', max_iter=1000, random_state=seed)\n",
        "      elif clf_name == \"xgboost\":\n",
        "          model = xgboost.XGBClassifier(**best_params)\n",
        "\n",
        "\n",
        "      kfold = StratifiedKFold(n_splits=5, shuffle=True, random_state=seed)\n",
        "\n",
        "      f1_scores = []\n",
        "      accuracy_scores = []\n",
        "      precision_scores = []\n",
        "      recall_scores = []\n",
        "\n",
        "\n",
        "      for train_idx, test_idx in kfold.split(X, y):\n",
        "        X_train, X_test = X[train_idx], X[test_idx]\n",
        "        y_train, y_test = y[train_idx], y[test_idx]\n",
        "\n",
        "        model.fit(X_train, y_train)\n",
        "        y_pred = model.predict(X_test)\n",
        "\n",
        "        f1_scores.append(f1_score(y_test, y_pred, zero_division=0))\n",
        "        accuracy_scores.append(accuracy_score(y_test, y_pred))\n",
        "        precision_scores.append(precision_score(y_test, y_pred, zero_division=0))\n",
        "        recall_scores.append(recall_score(y_test, y_pred, zero_division=0))\n",
        "\n",
        "\n",
        "      print(confusion_matrix(y_test, y_pred)) #On peut ne print que la dernière c'est juste pour une idée générale\n",
        "      f1_mean = statistics.mean(f1_scores)\n",
        "      if f1_mean > best_f1:\n",
        "        best_f1 = f1_mean\n",
        "        names = clf_name\n",
        "        model = model\n",
        "\n",
        "      all_f1_scores[clf_name] = f1_scores\n",
        "      print(f\"F1 : {statistics.mean(f1_scores)} \\nAccuracy :{statistics.mean(accuracy_scores)} \\n Precision : {statistics.mean(precision_scores)} \\n Recall: {statistics.mean(recall_scores)}\\n\")\n",
        "\n",
        "  plot_boxplot(all_f1_scores,\"deuxieme_classification_sur_données_augmentées\")\n",
        "  return model"
      ]
    },
    {
      "cell_type": "code",
      "source": [
        "def optimize_hyperparameters_multilabel(classifier_name, X_train, y_train, n_trials=20):\n",
        "    def objective(trial):\n",
        "        if classifier_name == 'RandomForestClassifier':\n",
        "            n_estimators = trial.suggest_int('n_estimators', 10, 200)\n",
        "            max_depth = trial.suggest_int('max_depth', 2, 32, log=True)\n",
        "            clf = RandomForestClassifier(n_estimators=n_estimators, max_depth=max_depth,\n",
        "                                         class_weight='balanced', random_state=42)\n",
        "\n",
        "        elif classifier_name == 'SVC':\n",
        "            C = trial.suggest_float('C', 1e-3, 1e2, log=True)\n",
        "            kernel = trial.suggest_categorical('kernel', ['linear', 'rbf', 'poly'])\n",
        "            gamma = trial.suggest_float('gamma', 1e-4, 1e-1, log=True)\n",
        "            clf = SVC(C=C, kernel=kernel, gamma=gamma, class_weight='balanced', probability=True)\n",
        "\n",
        "        elif classifier_name == 'MultinomialNB':\n",
        "            alpha = trial.suggest_float('alpha', 1e-3, 1.0, log=True)\n",
        "            clf = MultinomialNB(alpha=alpha)\n",
        "\n",
        "        elif classifier_name == 'KNeighborsClassifier':\n",
        "            n_neighbors = trial.suggest_int('n_neighbors', 1, 50)\n",
        "            weights = trial.suggest_categorical('weights', ['uniform', 'distance'])\n",
        "            clf = KNeighborsClassifier(n_neighbors=n_neighbors, weights=weights)\n",
        "\n",
        "        elif classifier_name == 'DecisionTreeClassifier':\n",
        "            max_depth = trial.suggest_int('max_depth', 2, 32, log=True)\n",
        "            criterion = trial.suggest_categorical('criterion', ['gini', 'entropy', 'log_loss'])\n",
        "            clf = DecisionTreeClassifier(max_depth=max_depth, criterion=criterion,\n",
        "                                         class_weight='balanced', random_state=42)\n",
        "\n",
        "        elif classifier_name == 'LogisticRegression':\n",
        "            C = trial.suggest_float('C', 1e-3, 1e2, log=True)\n",
        "            solver = trial.suggest_categorical('solver', ['lbfgs', 'liblinear', 'saga'])\n",
        "            clf = LogisticRegression(C=C, solver=solver, class_weight='balanced',\n",
        "                                     max_iter=1000, random_state=42)\n",
        "        elif classifier_name == 'xgboost':\n",
        "            max_depth = trial.suggest_int('max_depth', 2, 32, log=True)\n",
        "            learning_rate = trial.suggest_float('learning_rate', 1e-5, 1e-1, log=True)\n",
        "            n_estimators = trial.suggest_int('n_estimators', 10, 1000, log=True)\n",
        "            clf = xgboost.XGBClassifier(max_depth=max_depth, learning_rate=learning_rate, n_estimators=n_estimators)\n",
        "\n",
        "        # Cross-validation interne à Optuna\n",
        "        cv = KFold(n_splits=5, shuffle=True, random_state=42)\n",
        "        scorer = make_scorer(f1_score, average='micro', zero_division=0)\n",
        "        score = cross_val_score(MultiOutputClassifier(clf), X_train, y_train, cv=cv, scoring=scorer).mean()\n",
        "        return score\n",
        "\n",
        "\n",
        "\n",
        "    study = optuna.create_study(direction=\"maximize\")\n",
        "    study.optimize(objective, n_trials=n_trials)\n",
        "    return study.best_params"
      ],
      "metadata": {
        "id": "OpbOhJh2GAZd"
      },
      "execution_count": null,
      "outputs": []
    },
    {
      "cell_type": "code",
      "source": [
        "def test_optuna_multilabel(X0, y0, X_val,y_val):\n",
        "  best_f1 = 0.0\n",
        "  names = \"\"\n",
        "  estimator = None\n",
        "  seed = 7\n",
        "\n",
        "  #X_train, X_test, y_train, y_test\n",
        "  X,X_val2,y,y_val2 = train_test_split(X0,y0,train_size=0.8,test_size=0.2,random_state=seed)\n",
        "  for clf_name in ['RandomForestClassifier', 'SVC', 'MultinomialNB', 'KNeighborsClassifier', 'DecisionTreeClassifier', 'LogisticRegression', 'xgboost']:\n",
        "      print(f\"\\nOptimisation pour : {clf_name}\")\n",
        "      best_params = optimize_hyperparameters_multilabel(clf_name, X, y, n_trials=20)\n",
        "      print(\"Meilleurs paramètres :\", best_params)\n",
        "\n",
        "      if clf_name == \"RandomForestClassifier\":\n",
        "          model = RandomForestClassifier(**best_params, class_weight='balanced', random_state=seed)\n",
        "      elif clf_name == \"SVC\":\n",
        "          model = SVC(**best_params, class_weight='balanced', probability=True)\n",
        "      elif clf_name == \"MultinomialNB\":\n",
        "          model = MultinomialNB(**best_params)\n",
        "      elif clf_name == \"KNeighborsClassifier\":\n",
        "          model = KNeighborsClassifier(**best_params)\n",
        "      elif clf_name == \"DecisionTreeClassifier\":\n",
        "          model = DecisionTreeClassifier(**best_params, class_weight='balanced', random_state=seed)\n",
        "      elif clf_name == \"LogisticRegression\":\n",
        "          model = LogisticRegression(**best_params, class_weight='balanced', max_iter=1000, random_state=seed)\n",
        "      elif clf_name == \"xgboost\":\n",
        "          model = xgboost.XGBClassifier(**best_params)\n",
        "      kfold = KFold(n_splits=5, shuffle=True, random_state=seed)\n",
        "\n",
        "      f1_scores = []\n",
        "      accuracy_scores = []\n",
        "      precision_scores = []\n",
        "      recall_scores = []\n",
        "\n",
        "\n",
        "      for train_idx, test_idx in kfold.split(X, y):\n",
        "        X_train, X_test = X[train_idx], X[test_idx]\n",
        "        y_train, y_test = y[train_idx], y[test_idx]\n",
        "\n",
        "        classifier = MultiOutputClassifier(model)\n",
        "\n",
        "        classifier.fit(X_train, y_train)\n",
        "        y_pred = classifier.predict(X_test)\n",
        "\n",
        "        f1_scores.append(f1_score(y_test, y_pred, average='micro', zero_division=0))\n",
        "        accuracy_scores.append(accuracy_score(y_test, y_pred))\n",
        "        precision_scores.append(precision_score(y_test, y_pred, average='micro', zero_division=0))\n",
        "        recall_scores.append(recall_score(y_test, y_pred, average='micro', zero_division=0))\n",
        "\n",
        "      print(multilabel_confusion_matrix(y_test.argmax(axis=1), y_pred.argmax(axis=1)))  #On peut ne print que la dernière c'est juste pour une idée générale\n",
        "      f1_mean = statistics.mean(f1_scores)\n",
        "      if f1_mean > best_f1:\n",
        "        best_f1 = f1_mean\n",
        "        names = clf_name\n",
        "        estimator = classifier\n",
        "\n",
        "      print(f\"F1 : {statistics.mean(f1_scores)} \\nAccuracy :{statistics.mean(accuracy_scores)} \\n Precision : {statistics.mean(precision_scores)} \\n Recall: {statistics.mean(recall_scores)}\\n\")\n",
        "\n",
        "      y_val_pred = classifier.predict(X_val)\n",
        "      f1_val = f1_score(y_val, y_val_pred, average='micro', zero_division=0)\n",
        "      print(f\"F1 validation sur jeu de base : {f1_val}\")\n",
        "\n",
        "      y_val2_pred = classifier.predict(X_val2)\n",
        "      f1_val2 = f1_score(y_val2, y_val2_pred, average='micro', zero_division=0)\n",
        "      print(f\"F1 validation sur jeu d'apprentissage : {f1_val2}\")\n",
        "  return estimator"
      ],
      "metadata": {
        "id": "1AOk4Ym7y_AC"
      },
      "execution_count": null,
      "outputs": []
    },
    {
      "cell_type": "code",
      "source": [
        "def optimize_hyperparameters_OneVsOne(classifier_name, X_train, y_train, n_trials=20):\n",
        "    def objective(trial):\n",
        "        if classifier_name == 'RandomForestClassifier':\n",
        "            n_estimators = trial.suggest_int('n_estimators', 10, 200)\n",
        "            max_depth = trial.suggest_int('max_depth', 2, 32, log=True)\n",
        "            clf = RandomForestClassifier(n_estimators=n_estimators, max_depth=max_depth,\n",
        "                                         class_weight='balanced', random_state=42)\n",
        "\n",
        "        elif classifier_name == 'SVC':\n",
        "            C = trial.suggest_float('C', 1e-3, 1e2, log=True)\n",
        "            kernel = trial.suggest_categorical('kernel', ['linear', 'rbf', 'poly'])\n",
        "            gamma = trial.suggest_float('gamma', 1e-4, 1e-1, log=True)\n",
        "            clf = SVC(C=C, kernel=kernel, gamma=gamma, class_weight='balanced', probability=True)\n",
        "\n",
        "        elif classifier_name == 'MultinomialNB':\n",
        "            alpha = trial.suggest_float('alpha', 1e-3, 1.0, log=True)\n",
        "            clf = MultinomialNB(alpha=alpha)\n",
        "\n",
        "        elif classifier_name == 'KNeighborsClassifier':\n",
        "            n_neighbors = trial.suggest_int('n_neighbors', 1, 50)\n",
        "            weights = trial.suggest_categorical('weights', ['uniform', 'distance'])\n",
        "            clf = KNeighborsClassifier(n_neighbors=n_neighbors, weights=weights)\n",
        "\n",
        "        elif classifier_name == 'DecisionTreeClassifier':\n",
        "            max_depth = trial.suggest_int('max_depth', 2, 32, log=True)\n",
        "            criterion = trial.suggest_categorical('criterion', ['gini', 'entropy', 'log_loss'])\n",
        "            clf = DecisionTreeClassifier(max_depth=max_depth, criterion=criterion,\n",
        "                                         class_weight='balanced', random_state=42)\n",
        "\n",
        "        elif classifier_name == 'LogisticRegression':\n",
        "            C = trial.suggest_float('C', 1e-3, 1e2, log=True)\n",
        "            solver = trial.suggest_categorical('solver', ['lbfgs', 'liblinear', 'saga'])\n",
        "            clf = LogisticRegression(C=C, solver=solver, class_weight='balanced',\n",
        "                                     max_iter=1000, random_state=42)\n",
        "        elif classifier_name == 'xgboost':\n",
        "            max_depth = trial.suggest_int('max_depth', 2, 32, log=True)\n",
        "            learning_rate = trial.suggest_float('learning_rate', 1e-5, 1e-1, log=True)\n",
        "            n_estimators = trial.suggest_int('n_estimators', 10, 1000, log=True)\n",
        "            clf = xgboost.XGBClassifier(max_depth=max_depth, learning_rate=learning_rate, n_estimators=n_estimators)\n",
        "\n",
        "        # Cross-validation interne à Optuna\n",
        "        cv = KFold(n_splits=5, shuffle=True, random_state=42)\n",
        "        scorer = make_scorer(f1_score, average='micro', zero_division=0)\n",
        "        score = cross_val_score(OneVsOneClassifier(clf), X_train, y_train, cv=cv, scoring=scorer).mean()\n",
        "        return score\n",
        "\n",
        "\n",
        "\n",
        "    study = optuna.create_study(direction=\"maximize\")\n",
        "    study.optimize(objective, n_trials=n_trials)\n",
        "    return study.best_params"
      ],
      "metadata": {
        "id": "kz_Zlgel_PUz"
      },
      "execution_count": null,
      "outputs": []
    },
    {
      "cell_type": "code",
      "source": [
        "def test_optuna_powerset(X0, y0, X_val,y_val):\n",
        "  powerset = LabelPowerset()\n",
        "  y1 = powerset.transform(y0)\n",
        "  y_val_transformed = powerset.transform(y_val)\n",
        "  best_f1 = 0.0\n",
        "  names = \"\"\n",
        "  estimator = None\n",
        "  seed = 7\n",
        "\n",
        "  X,X_val2,y,y_val2 = train_test_split(X0,y1,train_size=0.8,test_size=0.2,random_state=seed)\n",
        "  print(np.array(y).shape)\n",
        "  for clf_name in ['RandomForestClassifier', 'SVC', 'MultinomialNB', 'KNeighborsClassifier', 'DecisionTreeClassifier', 'LogisticRegression', 'xgboost']:\n",
        "      print(f\"\\n Optimisation pour : {clf_name}\")\n",
        "      best_params = optimize_hyperparameters_OneVsOne(clf_name, X, y, n_trials=20)\n",
        "      print(\" Meilleurs paramètres :\", best_params)\n",
        "\n",
        "      if clf_name == \"RandomForestClassifier\":\n",
        "          model = RandomForestClassifier(**best_params, class_weight='balanced', random_state=seed)\n",
        "      elif clf_name == \"SVC\":\n",
        "          model = SVC(**best_params, class_weight='balanced', probability=True)\n",
        "      elif clf_name == \"MultinomialNB\":\n",
        "          model = MultinomialNB(**best_params)\n",
        "      elif clf_name == \"KNeighborsClassifier\":\n",
        "          model = KNeighborsClassifier(**best_params)\n",
        "      elif clf_name == \"DecisionTreeClassifier\":\n",
        "          model = DecisionTreeClassifier(**best_params, class_weight='balanced', random_state=seed)\n",
        "      elif clf_name == \"LogisticRegression\":\n",
        "          model = LogisticRegression(**best_params, class_weight='balanced', max_iter=1000, random_state=seed)\n",
        "      elif clf_name == \"xgboost\":\n",
        "          model = xgboost.XGBClassifier(**best_params)\n",
        "      kfold = KFold(n_splits=5, shuffle=True, random_state=seed)\n",
        "\n",
        "      f1_scores = []\n",
        "      accuracy_scores = []\n",
        "      precision_scores = []\n",
        "      recall_scores = []\n",
        "\n",
        "\n",
        "      for train_idx, test_idx in kfold.split(X, y):\n",
        "        X_train, X_test = X[train_idx], X[test_idx]\n",
        "        y_train, y_test = y[train_idx], y[test_idx]\n",
        "\n",
        "        classifier = OneVsOneClassifier(model)\n",
        "\n",
        "        classifier.fit(X_train, y_train)\n",
        "        y_pred = classifier.predict(X_test)\n",
        "\n",
        "        f1_scores.append(f1_score(y_test, y_pred, average='micro', zero_division=0))\n",
        "        accuracy_scores.append(accuracy_score(y_test, y_pred))\n",
        "        precision_scores.append(precision_score(y_test, y_pred, average='micro', zero_division=0))\n",
        "        recall_scores.append(recall_score(y_test, y_pred, average='micro', zero_division=0))\n",
        "\n",
        "      print(confusion_matrix(y_test,y_pred))  #On peut ne print que la dernière c'est juste pour une idée générale\n",
        "      f1_mean = statistics.mean(f1_scores)\n",
        "      if f1_mean > best_f1:\n",
        "        best_f1 = f1_mean\n",
        "        names = clf_name\n",
        "        estimator = classifier\n",
        "\n",
        "      print(f\"F1 : {statistics.mean(f1_scores)} \\nAccuracy :{statistics.mean(accuracy_scores)} \\n Precision : {statistics.mean(precision_scores)} \\n Recall: {statistics.mean(recall_scores)}\\n\")\n",
        "\n",
        "      y_val_pred = classifier.predict(X_val)\n",
        "      f1_val = f1_score(y_val_transformed, y_val_pred, average='micro', zero_division=0)\n",
        "      print(f\"F1 validation sur jeu de base : {f1_val}\")\n",
        "\n",
        "      y_val2_pred = classifier.predict(X_val2)\n",
        "      f1_val2 = f1_score(y_val2, y_val2_pred, average='micro', zero_division=0)\n",
        "      print(f\"F1 validation sur jeu d'apprentissage : {f1_val2}\")\n",
        "  return estimator"
      ],
      "metadata": {
        "id": "pJxjZK4irRx0"
      },
      "execution_count": null,
      "outputs": []
    },
    {
      "cell_type": "code",
      "source": [
        "def optimize_hyperparameters_multi_power(classifier_name, X_train, y_train, n_trials=20):\n",
        "    def objective(trial):\n",
        "        if classifier_name == 'RandomForestClassifier':\n",
        "            n_estimators = trial.suggest_int('n_estimators', 10, 200)\n",
        "            max_depth = trial.suggest_int('max_depth', 2, 32, log=True)\n",
        "            clf = RandomForestClassifier(n_estimators=n_estimators, max_depth=max_depth,\n",
        "                                         class_weight='balanced', random_state=42)\n",
        "\n",
        "        elif classifier_name == 'LogisticRegression':\n",
        "            C = trial.suggest_float('C', 1e-3, 1e2, log=True)\n",
        "            solver = trial.suggest_categorical('solver', ['lbfgs', 'liblinear', 'saga'])\n",
        "            clf = LogisticRegression(C=C, solver=solver, class_weight='balanced',\n",
        "                                     max_iter=1000, random_state=42)\n",
        "\n",
        "        elif classifier_name == 'xgboost':\n",
        "            max_depth = trial.suggest_int('max_depth', 2, 32, log=True)\n",
        "            learning_rate = trial.suggest_float('learning_rate', 1e-5, 1e-1, log=True)\n",
        "            n_estimators = trial.suggest_int('n_estimators', 10, 1000, log=True)\n",
        "            clf = xgboost.XGBClassifier(max_depth=max_depth, learning_rate=learning_rate,\n",
        "                                        n_estimators=n_estimators, eval_metric='mlogloss')\n",
        "\n",
        "        # Cross-validation avec scoring multi-classe (car Label Powerset)\n",
        "        cv = KFold(n_splits=5, shuffle=True, random_state=42)\n",
        "        scorer = make_scorer(f1_score, average='micro', zero_division=0)\n",
        "        score = cross_val_score(clf, X_train, y_train, cv=cv, scoring=scorer).mean()\n",
        "        return score\n",
        "\n",
        "    study = optuna.create_study(direction=\"maximize\")\n",
        "    study.optimize(objective, n_trials=n_trials)\n",
        "    return study.best_params\n"
      ],
      "metadata": {
        "id": "SsF4j-aHrBFS"
      },
      "execution_count": null,
      "outputs": []
    },
    {
      "cell_type": "code",
      "source": [
        "def test_multi_powerset(X, y, X_val=None, y_val_transformed=None, X_val2=None, y_val2=None):\n",
        "    best_f1 = 0.0\n",
        "    best_model = None\n",
        "    seed = 42\n",
        "\n",
        "    for clf_name in ['RandomForestClassifier', 'LogisticRegression', 'xgboost']:\n",
        "        print(f\"\\n Optimisation pour : {clf_name}\")\n",
        "        best_params = optimize_hyperparameters_multi_power(clf_name, X, y, n_trials=20)\n",
        "        print(\"Meilleurs paramètres :\", best_params)\n",
        "\n",
        "        if clf_name == \"RandomForestClassifier\":\n",
        "            model = RandomForestClassifier(**best_params, class_weight='balanced', random_state=seed)\n",
        "        elif clf_name == \"LogisticRegression\":\n",
        "            model = LogisticRegression(**best_params, class_weight='balanced', max_iter=1000, random_state=seed)\n",
        "        elif clf_name == \"xgboost\":\n",
        "            model = xgboost.XGBClassifier(**best_params)\n",
        "\n",
        "        kfold = KFold(n_splits=5, shuffle=True, random_state=seed)\n",
        "        f1_scores = []\n",
        "        accuracy_scores = []\n",
        "        precision_scores = []\n",
        "        recall_scores = []\n",
        "\n",
        "        for train_idx, test_idx in kfold.split(X, y):\n",
        "            X_train_fold, X_test_fold = X[train_idx], X[test_idx]\n",
        "            y_train_fold, y_test_fold = y[train_idx], y[test_idx]\n",
        "\n",
        "            model.fit(X_train_fold, y_train_fold)\n",
        "            y_pred_fold = model.predict(X_test_fold)\n",
        "\n",
        "            f1_scores.append(f1_score(y_test_fold, y_pred_fold, average='micro', zero_division=0))\n",
        "            accuracy_scores.append(accuracy_score(y_test_fold, y_pred_fold))\n",
        "            precision_scores.append(precision_score(y_test_fold, y_pred_fold, average='micro', zero_division=0))\n",
        "            recall_scores.append(recall_score(y_test_fold, y_pred_fold, average='micro', zero_division=0))\n",
        "\n",
        "        f1_mean = statistics.mean(f1_scores)\n",
        "        print(confusion_matrix(y_test_fold, y_pred_fold))\n",
        "        print(f\"F1 : {f1_mean:.4f} \\nAccuracy : {statistics.mean(accuracy_scores):.4f} \"\n",
        "              f\"\\nPrecision : {statistics.mean(precision_scores):.4f} \\nRecall : {statistics.mean(recall_scores):.4f}\")\n",
        "\n",
        "        if f1_mean > best_f1:\n",
        "            best_f1 = f1_mean\n",
        "            best_model = model\n",
        "\n",
        "        if X_val is not None and y_val_transformed is not None:\n",
        "            y_val_pred = model.predict(X_val)\n",
        "            f1_val = f1_score(y_val_transformed, y_val_pred, average='micro', zero_division=0)\n",
        "            print(f\"F1 validation sur jeu de base : {f1_val:.4f}\")\n",
        "\n",
        "        if X_val2 is not None and y_val2 is not None:\n",
        "            y_val2_pred = model.predict(X_val2)\n",
        "            f1_val2 = f1_score(y_val2, y_val2_pred, average='micro', zero_division=0)\n",
        "            print(f\"F1 validation sur jeu d'apprentissage : {f1_val2:.4f}\")\n",
        "\n",
        "    return best_model"
      ],
      "metadata": {
        "id": "1DMZlQEprDrk"
      },
      "execution_count": null,
      "outputs": []
    },
    {
      "cell_type": "code",
      "execution_count": null,
      "metadata": {
        "id": "yPN-dJaz-kGj"
      },
      "outputs": [],
      "source": [
        "def external_predict(path, clas, model):\n",
        "  print(\"\\n External prediction\\n\")\n",
        "  print(f\"{model}\\n\")\n",
        "  df = pd.read_csv(path, sep='\\t')\n",
        "  df['text'] = df['text'].apply(full_clean)\n",
        "  tfidf_vect = tfidf_vectorizer(df['text'])\n",
        "  y = df[clas]\n",
        "  y_pred_proba = model.predict(tfidf_vect)\n",
        "  y_pred = (y_pred_proba >= 0.5).astype(int)\n",
        "\n",
        "  print(classification_report(y, y_pred))\n",
        "  print(confusion_matrix(y, y_pred))\n",
        "  f1_ext = classification_report(y, y_pred, output_dict=True)['weighted avg']['f1-score']\n",
        "  print(f1_ext)\n",
        "\n"
      ]
    },
    {
      "cell_type": "code",
      "source": [
        "def external_predict2(path, model):\n",
        "  print(\"\\n External prediction\\n\")\n",
        "  print(f\"{model}\\n\")\n",
        "  df = pd.read_csv(path, sep='\\t')\n",
        "  df['text'] = df['text'].apply(full_clean)\n",
        "  df = duplicate_row(df)\n",
        "  df['crc'] = df.apply(map_labels1, axis=1)\n",
        "  tfidf_vect = tfidf_vectorizer(df['text'])\n",
        "  y = df['crc']\n",
        "  y_pred_proba = model.predict(tfidf_vect)\n",
        "  y_pred = (y_pred_proba >= 0.5).astype(int)\n",
        "\n",
        "  print(classification_report(y, y_pred))\n",
        "  print(confusion_matrix(y, y_pred))\n"
      ],
      "metadata": {
        "id": "EytMaRL-JzA4"
      },
      "execution_count": null,
      "outputs": []
    },
    {
      "cell_type": "code",
      "execution_count": null,
      "metadata": {
        "id": "PS7-TtQl_lYM"
      },
      "outputs": [],
      "source": [
        "def initialize(path):\n",
        "  df = pd.read_csv(path, sep='\\t')\n",
        "  df = df.reset_index(drop=True)\n",
        "\n",
        "  print(df['text'].duplicated().sum())\n",
        "  df = df.drop('Unnamed: 0', axis=1)\n",
        "\n",
        "  return df"
      ]
    },
    {
      "cell_type": "code",
      "execution_count": null,
      "metadata": {
        "id": "fzm6Cf8HIDB7"
      },
      "outputs": [],
      "source": [
        "def duplicate_row(df):\n",
        "  rows_to_duplicate = []\n",
        "  for index, row in df.iterrows():\n",
        "      if row[\"scientific_reference\"] == 1.0 and row[\"scientific_context\"] == 1.0:\n",
        "          duplicated_row = row.copy()\n",
        "          duplicated_row[\"scientific_reference\"] = 0.0\n",
        "          #print(duplicated_row)\n",
        "          rows_to_duplicate.append(duplicated_row)\n",
        "\n",
        "  if rows_to_duplicate:\n",
        "      duplicated_df = pd.DataFrame(rows_to_duplicate)\n",
        "      df = pd.concat([df, duplicated_df], ignore_index=True)\n",
        "  return df"
      ]
    },
    {
      "cell_type": "code",
      "execution_count": null,
      "metadata": {
        "id": "hHrVL8NKINvY"
      },
      "outputs": [],
      "source": [
        "def map_labels1(row):\n",
        "    return 1 if (row[\"scientific_claim\"] == 1.0 or row[\"scientific_reference\"] == 1.0) else 0"
      ]
    },
    {
      "cell_type": "code",
      "source": [
        "def map_labels2(row):\n",
        "    label = []\n",
        "    if(row[\"scientific_claim\"] == 1.0):\n",
        "      label.append(1)\n",
        "    else:\n",
        "      label.append(0)\n",
        "    if(row[\"scientific_reference\"] == 1.0):\n",
        "      label.append(1)\n",
        "    else:\n",
        "      label.append(0)\n",
        "    if(row[\"scientific_context\"] == 1.0):\n",
        "      label.append(1)\n",
        "    else:\n",
        "      label.append(0)\n",
        "    return label"
      ],
      "metadata": {
        "id": "AWWNEM2ayFcR"
      },
      "execution_count": null,
      "outputs": []
    },
    {
      "cell_type": "code",
      "execution_count": null,
      "metadata": {
        "id": "lFzj4dIZIiLF"
      },
      "outputs": [],
      "source": [
        "def downsampling(df, clas):\n",
        "    class_counts = df[clas].value_counts()\n",
        "    minority_class = class_counts.idxmin()\n",
        "    minority_count = class_counts.min()\n",
        "\n",
        "    df_minority = df[df[clas] == minority_class]\n",
        "    df_majority = df[df[clas] != minority_class]\n",
        "\n",
        "    df_majority_downsampled = df_majority.sample(n=minority_count, random_state=42)\n",
        "\n",
        "    balanced_df = pd.concat([df_minority, df_majority_downsampled]).sample(frac=1, random_state=42).reset_index(drop=True)\n",
        "    print(f\"{class_counts}\\n\")\n",
        "    print(f\"{balanced_df[clas].value_counts()}\\n\")\n",
        "    balanced_df = balanced_df.dropna(subset=[\"text\"])\n",
        "    balanced_df = balanced_df.reset_index(drop=True)\n",
        "\n",
        "    return balanced_df\n"
      ]
    },
    {
      "cell_type": "code",
      "execution_count": null,
      "metadata": {
        "id": "JcvxsXVdL5YV"
      },
      "outputs": [],
      "source": [
        "def embedded_preprocess(df):\n",
        "  df_trans = df[(df[\"scientific_claim\"] == 1) |(df[\"scientific_reference\"] == 1) | (df[\"scientific_context\"] == 1)].copy()\n",
        "  df_trans[\"label_step1\"] = (df_trans[\"scientific_claim\"] == 1).astype(int)\n",
        "  df_trans = df_trans.reset_index(drop=True)\n",
        "  df_step2 = df_trans[df_trans[\"label_step1\"] == 0].copy()\n",
        "  df_step2[\"label_step2\"] = (df_step2[\"scientific_reference\"] == 1).astype(int)\n",
        "  df_step2 = df_step2.reset_index(drop=True)\n",
        "\n",
        "  return df_trans, df_step2\n"
      ]
    },
    {
      "cell_type": "code",
      "execution_count": null,
      "metadata": {
        "id": "q-70d-aeTfFm"
      },
      "outputs": [],
      "source": [
        "def true_labels(df):\n",
        "  true_labels = []\n",
        "  for _, row in df.iterrows():\n",
        "      if row[\"scientific_claim\"] == 1:\n",
        "          true_labels.append(\"claim\")\n",
        "      elif row[\"scientific_reference\"] == 1:\n",
        "          true_labels.append(\"reference\")\n",
        "      elif row[\"scientific_context\"] == 1:\n",
        "          true_labels.append(\"context\")\n",
        "      else:\n",
        "          true_labels.append(\"unknown\")  # au cas où\n",
        "  return true_labels"
      ]
    },
    {
      "cell_type": "code",
      "execution_count": null,
      "metadata": {
        "id": "6Z0o4DMaSbUa"
      },
      "outputs": [],
      "source": [
        "def embedded_classification(df1, df2):\n",
        "  df1['text'].apply(full_clean)\n",
        "  df2['text'].apply(full_clean)\n",
        "  vect1 = tfidf_vectorizer(df1[\"text\"])\n",
        "  vect2 = tfidf_vectorizer(df2[\"text\"])\n",
        "\n",
        "  bst1 = test_optuna_binary(vect1, df1[\"label_step1\"])\n",
        "  bst2 = test_optuna_binary(vect2, df2[\"label_step2\"])\n",
        "\n",
        "  df = pd.read_csv('scitweets_export.tsv', sep='\\t')\n",
        "  df['text'] = df['text'].apply(full_clean)\n",
        "  vect = tfidf_vectorizer(df['text'])\n",
        "\n",
        "  pred_step1 = bst1.predict(vect)\n",
        "\n",
        "  final_preds = []\n",
        "\n",
        "  for i, p1 in enumerate(pred_step1):\n",
        "      if p1 == 1:\n",
        "          final_preds.append(\"claim\")\n",
        "      else:\n",
        "          p2 = bst2.predict(vect[i])\n",
        "          final_preds.append(\"reference\" if p2[0] == 1 else \"context\")\n",
        "\n",
        "  tlb = true_labels(df)\n",
        "  print(classification_report(tlb, final_preds))\n",
        "  display(confusion_matrix(tlb, final_preds))\n",
        "\n"
      ]
    },
    {
      "cell_type": "code",
      "source": [
        "def smote(vect, df, clas):\n",
        "    if isinstance(vect, np.ndarray):\n",
        "        X_resampled_1 = vect\n",
        "    else:\n",
        "        X_resampled_1 = vect.toarray()\n",
        "\n",
        "    y_resampled_1 = df[clas].values\n",
        "\n",
        "    smote = SMOTE(random_state=42)\n",
        "    X_resampled_1, y_resampled_1 = smote.fit_resample(X_resampled_1, y_resampled_1)\n",
        "\n",
        "    return X_resampled_1, y_resampled_1\n"
      ],
      "metadata": {
        "id": "4d6YI-7eUfxw"
      },
      "execution_count": null,
      "outputs": []
    },
    {
      "cell_type": "code",
      "source": [
        "def powerset(df):\n",
        "    # Créer les combinaisons binaires de {0, 1} pour chaque ligne\n",
        "    df['powerset_label_str'] = df.apply(lambda row: f\"{int(row['scientific_claim'])}_{int(row['scientific_reference'])}_{int(row['scientific_context'])}\", axis=1)\n",
        "    return df"
      ],
      "metadata": {
        "id": "7l1Dv8LyDhUv"
      },
      "execution_count": null,
      "outputs": []
    },
    {
      "cell_type": "code",
      "execution_count": null,
      "metadata": {
        "id": "SMiaF4J8bjKo"
      },
      "outputs": [],
      "source": [
        "def label_encoding(df):\n",
        "  le = LabelEncoder()\n",
        "  df['powerset_label_encoded'] = le.fit_transform(df['powerset_label_str'])\n",
        "  return le, df"
      ]
    },
    {
      "cell_type": "code",
      "source": [
        "def vocab(df_text):\n",
        "  vectorizer = CountVectorizer(stop_words='english')\n",
        "\n",
        "  X = vectorizer.fit_transform(df_text)\n",
        "  return len(vectorizer.get_feature_names_out()) + 1"
      ],
      "metadata": {
        "id": "KiDrMPAw7VfZ"
      },
      "execution_count": null,
      "outputs": []
    },
    {
      "cell_type": "code",
      "source": [
        "def length_max(text):\n",
        "  tweet_lengths = [len(tweet.split()) for tweet in text]\n",
        "  return int(np.percentile(tweet_lengths, 90)  )\n"
      ],
      "metadata": {
        "id": "X8PW9HXL79RB"
      },
      "execution_count": null,
      "outputs": []
    },
    {
      "cell_type": "code",
      "source": [
        "def plot_metrics(f1_scores_train, f1_scores_test, loss_train, loss_test, n_splits):\n",
        "    plt.figure(figsize=(12, 6))\n",
        "\n",
        "    # Plot Loss\n",
        "    plt.subplot(1, 2, 1)\n",
        "    plt.plot(range(1, n_splits + 1), loss_train, label='Training Loss', marker='o')\n",
        "    plt.plot(range(1, n_splits + 1), loss_test, label='Test Loss', marker='o')\n",
        "    plt.title('Loss per Epoch')\n",
        "    plt.xlabel('Epoch')\n",
        "    plt.ylabel('Loss')\n",
        "    plt.legend()\n",
        "\n",
        "    # Plot F1-score\n",
        "    plt.subplot(1, 2, 2)\n",
        "    plt.plot(range(1, n_splits + 1), f1_scores_train, label='Training F1 Score', marker='o')\n",
        "    plt.plot(range(1, n_splits + 1), f1_scores_test, label='Test F1 Score', marker='o')\n",
        "    plt.title('F1 Score per Epoch')\n",
        "    plt.xlabel('Epoch')\n",
        "    plt.ylabel('F1 Score')\n",
        "    plt.legend()\n",
        "\n",
        "    plt.tight_layout()\n",
        "    plt.show()"
      ],
      "metadata": {
        "id": "1m-WRHzYEFiB"
      },
      "execution_count": null,
      "outputs": []
    },
    {
      "cell_type": "code",
      "source": [
        "def lstm_bin(text, labels, epochs=10):\n",
        "    embedding_dim = 100\n",
        "    max_length = length_max(text)\n",
        "\n",
        "\n",
        "    tokenizer = Tokenizer(num_words=vocab_size, oov_token=\"<OOV>\")\n",
        "    tokenizer.fit_on_texts(text)\n",
        "    sequences = tokenizer.texts_to_sequences(text)\n",
        "    y = labels.astype(int).values\n",
        "\n",
        "    X_train, X_val, y_train, y_val = train_test_split(X, y, test_size=0.2, random_state=42, stratify=y)\n",
        "\n",
        "    # Poids des classes pour gérer l'imbalance\n",
        "    class_weights = compute_class_weight('balanced', classes=np.unique(y_train), y=y_train)\n",
        "    class_weight_dict = {i: w for i, w in enumerate(class_weights)}\n",
        "\n",
        "    # Initialisation du modèle\n",
        "    model = Sequential()\n",
        "    model.add(Embedding(input_dim=embedding_dim, output_dim=embedding_dim, input_length=max_length))\n",
        "    model.add(LSTM(32, return_sequences=False))\n",
        "    model.add(Dropout(0.4))\n",
        "    model.add(Dense(1, activation='sigmoid'))\n",
        "\n",
        "    model.compile(optimizer='adam', loss='binary_crossentropy', metrics=['accuracy'])\n",
        "\n",
        "    f1_scores_train = []\n",
        "    f1_scores_val = []\n",
        "    loss_train = []\n",
        "    loss_val = []\n",
        "\n",
        "    best_model = None\n",
        "    best_score = 0\n",
        "\n",
        "    for epoch in range(epochs):\n",
        "        print(f\"\\n=== Epoch {epoch+1}/{epochs} ===\")\n",
        "        model.fit(X_train, y_train, epochs=1, batch_size=32, class_weight=class_weight_dict, verbose=0)\n",
        "\n",
        "        score_train = model.evaluate(X_train, y_train, verbose=0)\n",
        "        score_val = model.evaluate(X_val, y_val, verbose=0)\n",
        "\n",
        "        y_train_pred = (model.predict(X_train) > 0.5).astype(int)\n",
        "        y_val_pred = (model.predict(X_val) > 0.5).astype(int)\n",
        "\n",
        "        f1_train = f1_score(y_train, y_train_pred)\n",
        "        f1_val = f1_score(y_val, y_val_pred)\n",
        "\n",
        "        f1_scores_train.append(f1_train)\n",
        "        f1_scores_val.append(f1_val)\n",
        "        loss_train.append(score_train[0])\n",
        "        loss_val.append(score_val[0])\n",
        "\n",
        "        if f1_val > best_score:\n",
        "            best_score = f1_val\n",
        "            best_model = model\n",
        "\n",
        "        print(f\"F1 Train: {f1_train:.4f}, F1 Val: {f1_val:.4f}, Val Accuracy: {score_val[1]:.4f}\")\n",
        "\n",
        "    print(f\"\\n Meilleur F1 Validation : {best_score:.4f}\")\n",
        "    plot_metrics(f1_scores_train, f1_scores_val, loss_train, loss_val, epochs)\n",
        "\n",
        "    return best_model\n"
      ],
      "metadata": {
        "id": "k7l19EnZ37Zu"
      },
      "execution_count": null,
      "outputs": []
    },
    {
      "cell_type": "code",
      "source": [
        "def lstm_multi(text, labels, epochs=11):\n",
        "    vocab_size = vocab(text) #taille du vocab\n",
        "    embedding_dim = 100\n",
        "    max_length = int(length_max(text)) #calculs de la taille max et remplir ceux plus petit\n",
        "    num_classes = labels.shape[1]\n",
        "\n",
        "    tokenizer = Tokenizer(num_words=vocab_size, oov_token=\"<OOV>\") #Tokenisation KEras\n",
        "    tokenizer.fit_on_texts(text)\n",
        "    sequences = tokenizer.texts_to_sequences(text)\n",
        "    X = pad_sequences(sequences, maxlen=max_length, padding='post')\n",
        "\n",
        "    y = np.array(labels)\n",
        "\n",
        "    X_train, X_val, y_train, y_val = train_test_split(X, y, test_size=0.2, random_state=42)\n",
        "\n",
        "    model = Sequential()\n",
        "    model.add(Embedding(input_dim=vocab_size, output_dim=embedding_dim, input_length=max_length))\n",
        "    model.add(LSTM(32)) #Essais sur 128, 64 et 43\n",
        "    model.add(Dropout(0.2))\n",
        "    model.add(Dense(num_classes, activation='sigmoid'))\n",
        "\n",
        "    model.compile(optimizer='adam', loss='binary_crossentropy', metrics=['accuracy'])\n",
        "\n",
        "    f1_scores_train = []\n",
        "    f1_scores_val = []\n",
        "    loss_train = []\n",
        "    loss_val = []\n",
        "\n",
        "    best_model = None\n",
        "    best_score = 0\n",
        "\n",
        "    for epoch in range(epochs):\n",
        "        print(f\"\\n=== Epoch {epoch+1}/{epochs} ===\")\n",
        "        model.fit(X_train, y_train, epochs=1, batch_size=32, verbose=0)\n",
        "\n",
        "        # Évaluation\n",
        "        score_train = model.evaluate(X_train, y_train, verbose=0)\n",
        "        score_val = model.evaluate(X_val, y_val, verbose=0)\n",
        "\n",
        "        y_train_pred = (model.predict(X_train) > 0.5).astype(int)\n",
        "        y_val_pred = (model.predict(X_val) > 0.5).astype(int)\n",
        "\n",
        "        f1_train = f1_score(y_train, y_train_pred, average='micro', zero_division=0)\n",
        "        f1_val = f1_score(y_val, y_val_pred, average='micro', zero_division=0)\n",
        "\n",
        "        f1_scores_train.append(f1_train)\n",
        "        f1_scores_val.append(f1_val)\n",
        "        loss_train.append(score_train[0])\n",
        "        loss_val.append(score_val[0])\n",
        "\n",
        "        if f1_val > best_score:\n",
        "            best_score = f1_val\n",
        "            best_model = model\n",
        "\n",
        "        print(f\"F1 Train: {f1_train:.4f}, F1 Val: {f1_val:.4f}, Val Acc: {score_val[1]:.4f}\")\n",
        "\n",
        "    print(f\"\\n Meilleur F1 Validation : {best_score:.4f}\")\n",
        "    plot_metrics(f1_scores_train, f1_scores_val, loss_train, loss_val, epochs)\n",
        "\n",
        "    return best_model\n"
      ],
      "metadata": {
        "id": "57UPpLaT807W"
      },
      "execution_count": null,
      "outputs": []
    },
    {
      "cell_type": "markdown",
      "source": [
        "# Analyse des données"
      ],
      "metadata": {
        "id": "xRq5ZYUfrd0V"
      }
    },
    {
      "cell_type": "markdown",
      "source": [
        "### Word Cloud"
      ],
      "metadata": {
        "id": "62h6cZumtaF3"
      }
    },
    {
      "cell_type": "code",
      "source": [
        "def word_cloud(text,min):\n",
        "    tweet = text.str.cat(sep=' ')\n",
        "    words = tweet.split()\n",
        "    word_counts = Counter(words)\n",
        "    filtered_counts = {word: count for word, count in word_counts.items() if count >= min}\n",
        "\n",
        "    fig = px.treemap(\n",
        "        names=list(filtered_counts.keys()),\n",
        "        parents=[\"\"] * len(filtered_counts),\n",
        "        values=list(filtered_counts.values()),\n",
        "        title=f\"Word Cloud sous forme de Treemap de l’ensemble des tweets de la SciTweets (affichage des mots ayant un nombre d’occurrences supérieur à {min}\"\n",
        "    )\n",
        "    fig.update_traces(\n",
        "        marker=dict(\n",
        "            colors=list(filtered_counts.values()),\n",
        "            colorscale=[(0, 'lightblue'), (0.5, 'orange'), (1, 'darkred')],\n",
        "            colorbar=dict(title=\"Occurrences\")\n",
        "        )\n",
        "    )\n",
        "    fig.show()"
      ],
      "metadata": {
        "id": "oKldyDVi2OsT"
      },
      "execution_count": null,
      "outputs": []
    },
    {
      "cell_type": "code",
      "source": [
        "#Affichage de word_cloud\n",
        "path=\"scitweets_export.tsv\"\n",
        "df = initialize(path)\n",
        "print(word_cloud(df['text'],30))\n",
        "df['text'] = df['text'].apply(full_clean)\n",
        "print(word_cloud(df['text'],30))"
      ],
      "metadata": {
        "colab": {
          "base_uri": "https://localhost:8080/",
          "height": 1119
        },
        "id": "OZsYA44BrXje",
        "outputId": "4fd44607-d9cc-4d94-c9fe-7077d5b23104"
      },
      "execution_count": null,
      "outputs": [
        {
          "output_type": "stream",
          "name": "stdout",
          "text": [
            "1\n"
          ]
        },
        {
          "output_type": "display_data",
          "data": {
            "text/html": [
              "<html>\n",
              "<head><meta charset=\"utf-8\" /></head>\n",
              "<body>\n",
              "    <div>            <script src=\"https://cdnjs.cloudflare.com/ajax/libs/mathjax/2.7.5/MathJax.js?config=TeX-AMS-MML_SVG\"></script><script type=\"text/javascript\">if (window.MathJax && window.MathJax.Hub && window.MathJax.Hub.Config) {window.MathJax.Hub.Config({SVG: {font: \"STIX-Web\"}});}</script>                <script type=\"text/javascript\">window.PlotlyConfig = {MathJaxConfig: 'local'};</script>\n",
              "        <script charset=\"utf-8\" src=\"https://cdn.plot.ly/plotly-2.35.2.min.js\"></script>                <div id=\"0f60673b-6c4f-4bb4-8d8b-23a2ddca6766\" class=\"plotly-graph-div\" style=\"height:525px; width:100%;\"></div>            <script type=\"text/javascript\">                                    window.PLOTLYENV=window.PLOTLYENV || {};                                    if (document.getElementById(\"0f60673b-6c4f-4bb4-8d8b-23a2ddca6766\")) {                    Plotly.newPlot(                        \"0f60673b-6c4f-4bb4-8d8b-23a2ddca6766\",                        [{\"domain\":{\"x\":[0.0,1.0],\"y\":[0.0,1.0]},\"hovertemplate\":\"label=%{label}\\u003cbr\\u003evalue=%{value}\\u003cbr\\u003eparent=%{parent}\\u003cextra\\u003e\\u003c\\u002fextra\\u003e\",\"labels\":[\"are\",\"a\",\"that\",\"is\",\"stop\",\"the\",\"with\",\"of\",\"or\",\"as\",\"to\",\"in\",\"this\",\"The\",\"on\",\"and\",\"more\",\"by\",\"from\",\"being\",\"be\",\"out\",\"support\",\"cause\",\"has\",\"just\",\"Stop\",\"for\",\"who\",\"your\",\"it\",\"than\",\"New\",\"A\",\"not\",\"an\",\"people\",\"all\",\"reports\",\"I\",\"-\",\"was\",\"can\",\"&\",\"This\",\"you\",\"will\",\"have\",\"at\",\"so\",\"new\",\"about\",\"but\",\"how\"],\"name\":\"\",\"parents\":[\"\",\"\",\"\",\"\",\"\",\"\",\"\",\"\",\"\",\"\",\"\",\"\",\"\",\"\",\"\",\"\",\"\",\"\",\"\",\"\",\"\",\"\",\"\",\"\",\"\",\"\",\"\",\"\",\"\",\"\",\"\",\"\",\"\",\"\",\"\",\"\",\"\",\"\",\"\",\"\",\"\",\"\",\"\",\"\",\"\",\"\",\"\",\"\",\"\",\"\",\"\",\"\",\"\",\"\"],\"values\":[128,355,112,207,140,592,121,409,42,55,549,281,99,104,146,337,62,89,82,31,79,33,118,35,46,33,30,231,31,48,36,36,30,48,59,43,45,39,50,56,92,38,50,112,37,62,71,40,67,34,34,42,34,34],\"type\":\"treemap\",\"marker\":{\"colorbar\":{\"title\":{\"text\":\"Occurrences\"}},\"colors\":[128,355,112,207,140,592,121,409,42,55,549,281,99,104,146,337,62,89,82,31,79,33,118,35,46,33,30,231,31,48,36,36,30,48,59,43,45,39,50,56,92,38,50,112,37,62,71,40,67,34,34,42,34,34],\"colorscale\":[[0,\"lightblue\"],[0.5,\"orange\"],[1,\"darkred\"]]}}],                        {\"template\":{\"data\":{\"histogram2dcontour\":[{\"type\":\"histogram2dcontour\",\"colorbar\":{\"outlinewidth\":0,\"ticks\":\"\"},\"colorscale\":[[0.0,\"#0d0887\"],[0.1111111111111111,\"#46039f\"],[0.2222222222222222,\"#7201a8\"],[0.3333333333333333,\"#9c179e\"],[0.4444444444444444,\"#bd3786\"],[0.5555555555555556,\"#d8576b\"],[0.6666666666666666,\"#ed7953\"],[0.7777777777777778,\"#fb9f3a\"],[0.8888888888888888,\"#fdca26\"],[1.0,\"#f0f921\"]]}],\"choropleth\":[{\"type\":\"choropleth\",\"colorbar\":{\"outlinewidth\":0,\"ticks\":\"\"}}],\"histogram2d\":[{\"type\":\"histogram2d\",\"colorbar\":{\"outlinewidth\":0,\"ticks\":\"\"},\"colorscale\":[[0.0,\"#0d0887\"],[0.1111111111111111,\"#46039f\"],[0.2222222222222222,\"#7201a8\"],[0.3333333333333333,\"#9c179e\"],[0.4444444444444444,\"#bd3786\"],[0.5555555555555556,\"#d8576b\"],[0.6666666666666666,\"#ed7953\"],[0.7777777777777778,\"#fb9f3a\"],[0.8888888888888888,\"#fdca26\"],[1.0,\"#f0f921\"]]}],\"heatmap\":[{\"type\":\"heatmap\",\"colorbar\":{\"outlinewidth\":0,\"ticks\":\"\"},\"colorscale\":[[0.0,\"#0d0887\"],[0.1111111111111111,\"#46039f\"],[0.2222222222222222,\"#7201a8\"],[0.3333333333333333,\"#9c179e\"],[0.4444444444444444,\"#bd3786\"],[0.5555555555555556,\"#d8576b\"],[0.6666666666666666,\"#ed7953\"],[0.7777777777777778,\"#fb9f3a\"],[0.8888888888888888,\"#fdca26\"],[1.0,\"#f0f921\"]]}],\"heatmapgl\":[{\"type\":\"heatmapgl\",\"colorbar\":{\"outlinewidth\":0,\"ticks\":\"\"},\"colorscale\":[[0.0,\"#0d0887\"],[0.1111111111111111,\"#46039f\"],[0.2222222222222222,\"#7201a8\"],[0.3333333333333333,\"#9c179e\"],[0.4444444444444444,\"#bd3786\"],[0.5555555555555556,\"#d8576b\"],[0.6666666666666666,\"#ed7953\"],[0.7777777777777778,\"#fb9f3a\"],[0.8888888888888888,\"#fdca26\"],[1.0,\"#f0f921\"]]}],\"contourcarpet\":[{\"type\":\"contourcarpet\",\"colorbar\":{\"outlinewidth\":0,\"ticks\":\"\"}}],\"contour\":[{\"type\":\"contour\",\"colorbar\":{\"outlinewidth\":0,\"ticks\":\"\"},\"colorscale\":[[0.0,\"#0d0887\"],[0.1111111111111111,\"#46039f\"],[0.2222222222222222,\"#7201a8\"],[0.3333333333333333,\"#9c179e\"],[0.4444444444444444,\"#bd3786\"],[0.5555555555555556,\"#d8576b\"],[0.6666666666666666,\"#ed7953\"],[0.7777777777777778,\"#fb9f3a\"],[0.8888888888888888,\"#fdca26\"],[1.0,\"#f0f921\"]]}],\"surface\":[{\"type\":\"surface\",\"colorbar\":{\"outlinewidth\":0,\"ticks\":\"\"},\"colorscale\":[[0.0,\"#0d0887\"],[0.1111111111111111,\"#46039f\"],[0.2222222222222222,\"#7201a8\"],[0.3333333333333333,\"#9c179e\"],[0.4444444444444444,\"#bd3786\"],[0.5555555555555556,\"#d8576b\"],[0.6666666666666666,\"#ed7953\"],[0.7777777777777778,\"#fb9f3a\"],[0.8888888888888888,\"#fdca26\"],[1.0,\"#f0f921\"]]}],\"mesh3d\":[{\"type\":\"mesh3d\",\"colorbar\":{\"outlinewidth\":0,\"ticks\":\"\"}}],\"scatter\":[{\"fillpattern\":{\"fillmode\":\"overlay\",\"size\":10,\"solidity\":0.2},\"type\":\"scatter\"}],\"parcoords\":[{\"type\":\"parcoords\",\"line\":{\"colorbar\":{\"outlinewidth\":0,\"ticks\":\"\"}}}],\"scatterpolargl\":[{\"type\":\"scatterpolargl\",\"marker\":{\"colorbar\":{\"outlinewidth\":0,\"ticks\":\"\"}}}],\"bar\":[{\"error_x\":{\"color\":\"#2a3f5f\"},\"error_y\":{\"color\":\"#2a3f5f\"},\"marker\":{\"line\":{\"color\":\"#E5ECF6\",\"width\":0.5},\"pattern\":{\"fillmode\":\"overlay\",\"size\":10,\"solidity\":0.2}},\"type\":\"bar\"}],\"scattergeo\":[{\"type\":\"scattergeo\",\"marker\":{\"colorbar\":{\"outlinewidth\":0,\"ticks\":\"\"}}}],\"scatterpolar\":[{\"type\":\"scatterpolar\",\"marker\":{\"colorbar\":{\"outlinewidth\":0,\"ticks\":\"\"}}}],\"histogram\":[{\"marker\":{\"pattern\":{\"fillmode\":\"overlay\",\"size\":10,\"solidity\":0.2}},\"type\":\"histogram\"}],\"scattergl\":[{\"type\":\"scattergl\",\"marker\":{\"colorbar\":{\"outlinewidth\":0,\"ticks\":\"\"}}}],\"scatter3d\":[{\"type\":\"scatter3d\",\"line\":{\"colorbar\":{\"outlinewidth\":0,\"ticks\":\"\"}},\"marker\":{\"colorbar\":{\"outlinewidth\":0,\"ticks\":\"\"}}}],\"scattermapbox\":[{\"type\":\"scattermapbox\",\"marker\":{\"colorbar\":{\"outlinewidth\":0,\"ticks\":\"\"}}}],\"scatterternary\":[{\"type\":\"scatterternary\",\"marker\":{\"colorbar\":{\"outlinewidth\":0,\"ticks\":\"\"}}}],\"scattercarpet\":[{\"type\":\"scattercarpet\",\"marker\":{\"colorbar\":{\"outlinewidth\":0,\"ticks\":\"\"}}}],\"carpet\":[{\"aaxis\":{\"endlinecolor\":\"#2a3f5f\",\"gridcolor\":\"white\",\"linecolor\":\"white\",\"minorgridcolor\":\"white\",\"startlinecolor\":\"#2a3f5f\"},\"baxis\":{\"endlinecolor\":\"#2a3f5f\",\"gridcolor\":\"white\",\"linecolor\":\"white\",\"minorgridcolor\":\"white\",\"startlinecolor\":\"#2a3f5f\"},\"type\":\"carpet\"}],\"table\":[{\"cells\":{\"fill\":{\"color\":\"#EBF0F8\"},\"line\":{\"color\":\"white\"}},\"header\":{\"fill\":{\"color\":\"#C8D4E3\"},\"line\":{\"color\":\"white\"}},\"type\":\"table\"}],\"barpolar\":[{\"marker\":{\"line\":{\"color\":\"#E5ECF6\",\"width\":0.5},\"pattern\":{\"fillmode\":\"overlay\",\"size\":10,\"solidity\":0.2}},\"type\":\"barpolar\"}],\"pie\":[{\"automargin\":true,\"type\":\"pie\"}]},\"layout\":{\"autotypenumbers\":\"strict\",\"colorway\":[\"#636efa\",\"#EF553B\",\"#00cc96\",\"#ab63fa\",\"#FFA15A\",\"#19d3f3\",\"#FF6692\",\"#B6E880\",\"#FF97FF\",\"#FECB52\"],\"font\":{\"color\":\"#2a3f5f\"},\"hovermode\":\"closest\",\"hoverlabel\":{\"align\":\"left\"},\"paper_bgcolor\":\"white\",\"plot_bgcolor\":\"#E5ECF6\",\"polar\":{\"bgcolor\":\"#E5ECF6\",\"angularaxis\":{\"gridcolor\":\"white\",\"linecolor\":\"white\",\"ticks\":\"\"},\"radialaxis\":{\"gridcolor\":\"white\",\"linecolor\":\"white\",\"ticks\":\"\"}},\"ternary\":{\"bgcolor\":\"#E5ECF6\",\"aaxis\":{\"gridcolor\":\"white\",\"linecolor\":\"white\",\"ticks\":\"\"},\"baxis\":{\"gridcolor\":\"white\",\"linecolor\":\"white\",\"ticks\":\"\"},\"caxis\":{\"gridcolor\":\"white\",\"linecolor\":\"white\",\"ticks\":\"\"}},\"coloraxis\":{\"colorbar\":{\"outlinewidth\":0,\"ticks\":\"\"}},\"colorscale\":{\"sequential\":[[0.0,\"#0d0887\"],[0.1111111111111111,\"#46039f\"],[0.2222222222222222,\"#7201a8\"],[0.3333333333333333,\"#9c179e\"],[0.4444444444444444,\"#bd3786\"],[0.5555555555555556,\"#d8576b\"],[0.6666666666666666,\"#ed7953\"],[0.7777777777777778,\"#fb9f3a\"],[0.8888888888888888,\"#fdca26\"],[1.0,\"#f0f921\"]],\"sequentialminus\":[[0.0,\"#0d0887\"],[0.1111111111111111,\"#46039f\"],[0.2222222222222222,\"#7201a8\"],[0.3333333333333333,\"#9c179e\"],[0.4444444444444444,\"#bd3786\"],[0.5555555555555556,\"#d8576b\"],[0.6666666666666666,\"#ed7953\"],[0.7777777777777778,\"#fb9f3a\"],[0.8888888888888888,\"#fdca26\"],[1.0,\"#f0f921\"]],\"diverging\":[[0,\"#8e0152\"],[0.1,\"#c51b7d\"],[0.2,\"#de77ae\"],[0.3,\"#f1b6da\"],[0.4,\"#fde0ef\"],[0.5,\"#f7f7f7\"],[0.6,\"#e6f5d0\"],[0.7,\"#b8e186\"],[0.8,\"#7fbc41\"],[0.9,\"#4d9221\"],[1,\"#276419\"]]},\"xaxis\":{\"gridcolor\":\"white\",\"linecolor\":\"white\",\"ticks\":\"\",\"title\":{\"standoff\":15},\"zerolinecolor\":\"white\",\"automargin\":true,\"zerolinewidth\":2},\"yaxis\":{\"gridcolor\":\"white\",\"linecolor\":\"white\",\"ticks\":\"\",\"title\":{\"standoff\":15},\"zerolinecolor\":\"white\",\"automargin\":true,\"zerolinewidth\":2},\"scene\":{\"xaxis\":{\"backgroundcolor\":\"#E5ECF6\",\"gridcolor\":\"white\",\"linecolor\":\"white\",\"showbackground\":true,\"ticks\":\"\",\"zerolinecolor\":\"white\",\"gridwidth\":2},\"yaxis\":{\"backgroundcolor\":\"#E5ECF6\",\"gridcolor\":\"white\",\"linecolor\":\"white\",\"showbackground\":true,\"ticks\":\"\",\"zerolinecolor\":\"white\",\"gridwidth\":2},\"zaxis\":{\"backgroundcolor\":\"#E5ECF6\",\"gridcolor\":\"white\",\"linecolor\":\"white\",\"showbackground\":true,\"ticks\":\"\",\"zerolinecolor\":\"white\",\"gridwidth\":2}},\"shapedefaults\":{\"line\":{\"color\":\"#2a3f5f\"}},\"annotationdefaults\":{\"arrowcolor\":\"#2a3f5f\",\"arrowhead\":0,\"arrowwidth\":1},\"geo\":{\"bgcolor\":\"white\",\"landcolor\":\"#E5ECF6\",\"subunitcolor\":\"white\",\"showland\":true,\"showlakes\":true,\"lakecolor\":\"white\"},\"title\":{\"x\":0.05},\"mapbox\":{\"style\":\"light\"}}},\"legend\":{\"tracegroupgap\":0},\"title\":{\"text\":\"Word Cloud sous forme de Treemap de l’ensemble des tweets de la SciTweets (affichage des mots ayant un nombre d’occurrences supérieur à 30\"}},                        {\"responsive\": true}                    ).then(function(){\n",
              "                            \n",
              "var gd = document.getElementById('0f60673b-6c4f-4bb4-8d8b-23a2ddca6766');\n",
              "var x = new MutationObserver(function (mutations, observer) {{\n",
              "        var display = window.getComputedStyle(gd).display;\n",
              "        if (!display || display === 'none') {{\n",
              "            console.log([gd, 'removed!']);\n",
              "            Plotly.purge(gd);\n",
              "            observer.disconnect();\n",
              "        }}\n",
              "}});\n",
              "\n",
              "// Listen for the removal of the full notebook cells\n",
              "var notebookContainer = gd.closest('#notebook-container');\n",
              "if (notebookContainer) {{\n",
              "    x.observe(notebookContainer, {childList: true});\n",
              "}}\n",
              "\n",
              "// Listen for the clearing of the current output cell\n",
              "var outputEl = gd.closest('.output');\n",
              "if (outputEl) {{\n",
              "    x.observe(outputEl, {childList: true});\n",
              "}}\n",
              "\n",
              "                        })                };                            </script>        </div>\n",
              "</body>\n",
              "</html>"
            ]
          },
          "metadata": {}
        },
        {
          "output_type": "stream",
          "name": "stdout",
          "text": [
            "None\n"
          ]
        },
        {
          "output_type": "display_data",
          "data": {
            "text/html": [
              "<html>\n",
              "<head><meta charset=\"utf-8\" /></head>\n",
              "<body>\n",
              "    <div>            <script src=\"https://cdnjs.cloudflare.com/ajax/libs/mathjax/2.7.5/MathJax.js?config=TeX-AMS-MML_SVG\"></script><script type=\"text/javascript\">if (window.MathJax && window.MathJax.Hub && window.MathJax.Hub.Config) {window.MathJax.Hub.Config({SVG: {font: \"STIX-Web\"}});}</script>                <script type=\"text/javascript\">window.PlotlyConfig = {MathJaxConfig: 'local'};</script>\n",
              "        <script charset=\"utf-8\" src=\"https://cdn.plot.ly/plotly-2.35.2.min.js\"></script>                <div id=\"fe7ebd1e-2d58-4f95-bd22-7b35b4fea46e\" class=\"plotly-graph-div\" style=\"height:525px; width:100%;\"></div>            <script type=\"text/javascript\">                                    window.PLOTLYENV=window.PLOTLYENV || {};                                    if (document.getElementById(\"fe7ebd1e-2d58-4f95-bd22-7b35b4fea46e\")) {                    Plotly.newPlot(                        \"fe7ebd1e-2d58-4f95-bd22-7b35b4fea46e\",                        [{\"domain\":{\"x\":[0.0,1.0],\"y\":[0.0,1.0]},\"hovertemplate\":\"label=%{label}\\u003cbr\\u003evalue=%{value}\\u003cbr\\u003eparent=%{parent}\\u003cextra\\u003e\\u003c\\u002fextra\\u003e\",\"labels\":[\"stop\",\"lead\",\"help\",\"cause\",\"life\",\"via\",\"day\",\"science\",\"please\",\"support\",\"good\",\"one\",\"increase\",\"get\",\"new\",\"people\",\"dont\",\"u\",\"report\",\"study\",\"like\",\"year\",\"research\",\"need\"],\"name\":\"\",\"parents\":[\"\",\"\",\"\",\"\",\"\",\"\",\"\",\"\",\"\",\"\",\"\",\"\",\"\",\"\",\"\",\"\",\"\",\"\",\"\",\"\",\"\",\"\",\"\",\"\"],\"values\":[192,44,31,61,31,31,36,42,41,167,31,40,49,31,68,76,31,43,75,40,32,69,34,39],\"type\":\"treemap\",\"marker\":{\"colorbar\":{\"title\":{\"text\":\"Occurrences\"}},\"colors\":[192,44,31,61,31,31,36,42,41,167,31,40,49,31,68,76,31,43,75,40,32,69,34,39],\"colorscale\":[[0,\"lightblue\"],[0.5,\"orange\"],[1,\"darkred\"]]}}],                        {\"template\":{\"data\":{\"histogram2dcontour\":[{\"type\":\"histogram2dcontour\",\"colorbar\":{\"outlinewidth\":0,\"ticks\":\"\"},\"colorscale\":[[0.0,\"#0d0887\"],[0.1111111111111111,\"#46039f\"],[0.2222222222222222,\"#7201a8\"],[0.3333333333333333,\"#9c179e\"],[0.4444444444444444,\"#bd3786\"],[0.5555555555555556,\"#d8576b\"],[0.6666666666666666,\"#ed7953\"],[0.7777777777777778,\"#fb9f3a\"],[0.8888888888888888,\"#fdca26\"],[1.0,\"#f0f921\"]]}],\"choropleth\":[{\"type\":\"choropleth\",\"colorbar\":{\"outlinewidth\":0,\"ticks\":\"\"}}],\"histogram2d\":[{\"type\":\"histogram2d\",\"colorbar\":{\"outlinewidth\":0,\"ticks\":\"\"},\"colorscale\":[[0.0,\"#0d0887\"],[0.1111111111111111,\"#46039f\"],[0.2222222222222222,\"#7201a8\"],[0.3333333333333333,\"#9c179e\"],[0.4444444444444444,\"#bd3786\"],[0.5555555555555556,\"#d8576b\"],[0.6666666666666666,\"#ed7953\"],[0.7777777777777778,\"#fb9f3a\"],[0.8888888888888888,\"#fdca26\"],[1.0,\"#f0f921\"]]}],\"heatmap\":[{\"type\":\"heatmap\",\"colorbar\":{\"outlinewidth\":0,\"ticks\":\"\"},\"colorscale\":[[0.0,\"#0d0887\"],[0.1111111111111111,\"#46039f\"],[0.2222222222222222,\"#7201a8\"],[0.3333333333333333,\"#9c179e\"],[0.4444444444444444,\"#bd3786\"],[0.5555555555555556,\"#d8576b\"],[0.6666666666666666,\"#ed7953\"],[0.7777777777777778,\"#fb9f3a\"],[0.8888888888888888,\"#fdca26\"],[1.0,\"#f0f921\"]]}],\"heatmapgl\":[{\"type\":\"heatmapgl\",\"colorbar\":{\"outlinewidth\":0,\"ticks\":\"\"},\"colorscale\":[[0.0,\"#0d0887\"],[0.1111111111111111,\"#46039f\"],[0.2222222222222222,\"#7201a8\"],[0.3333333333333333,\"#9c179e\"],[0.4444444444444444,\"#bd3786\"],[0.5555555555555556,\"#d8576b\"],[0.6666666666666666,\"#ed7953\"],[0.7777777777777778,\"#fb9f3a\"],[0.8888888888888888,\"#fdca26\"],[1.0,\"#f0f921\"]]}],\"contourcarpet\":[{\"type\":\"contourcarpet\",\"colorbar\":{\"outlinewidth\":0,\"ticks\":\"\"}}],\"contour\":[{\"type\":\"contour\",\"colorbar\":{\"outlinewidth\":0,\"ticks\":\"\"},\"colorscale\":[[0.0,\"#0d0887\"],[0.1111111111111111,\"#46039f\"],[0.2222222222222222,\"#7201a8\"],[0.3333333333333333,\"#9c179e\"],[0.4444444444444444,\"#bd3786\"],[0.5555555555555556,\"#d8576b\"],[0.6666666666666666,\"#ed7953\"],[0.7777777777777778,\"#fb9f3a\"],[0.8888888888888888,\"#fdca26\"],[1.0,\"#f0f921\"]]}],\"surface\":[{\"type\":\"surface\",\"colorbar\":{\"outlinewidth\":0,\"ticks\":\"\"},\"colorscale\":[[0.0,\"#0d0887\"],[0.1111111111111111,\"#46039f\"],[0.2222222222222222,\"#7201a8\"],[0.3333333333333333,\"#9c179e\"],[0.4444444444444444,\"#bd3786\"],[0.5555555555555556,\"#d8576b\"],[0.6666666666666666,\"#ed7953\"],[0.7777777777777778,\"#fb9f3a\"],[0.8888888888888888,\"#fdca26\"],[1.0,\"#f0f921\"]]}],\"mesh3d\":[{\"type\":\"mesh3d\",\"colorbar\":{\"outlinewidth\":0,\"ticks\":\"\"}}],\"scatter\":[{\"fillpattern\":{\"fillmode\":\"overlay\",\"size\":10,\"solidity\":0.2},\"type\":\"scatter\"}],\"parcoords\":[{\"type\":\"parcoords\",\"line\":{\"colorbar\":{\"outlinewidth\":0,\"ticks\":\"\"}}}],\"scatterpolargl\":[{\"type\":\"scatterpolargl\",\"marker\":{\"colorbar\":{\"outlinewidth\":0,\"ticks\":\"\"}}}],\"bar\":[{\"error_x\":{\"color\":\"#2a3f5f\"},\"error_y\":{\"color\":\"#2a3f5f\"},\"marker\":{\"line\":{\"color\":\"#E5ECF6\",\"width\":0.5},\"pattern\":{\"fillmode\":\"overlay\",\"size\":10,\"solidity\":0.2}},\"type\":\"bar\"}],\"scattergeo\":[{\"type\":\"scattergeo\",\"marker\":{\"colorbar\":{\"outlinewidth\":0,\"ticks\":\"\"}}}],\"scatterpolar\":[{\"type\":\"scatterpolar\",\"marker\":{\"colorbar\":{\"outlinewidth\":0,\"ticks\":\"\"}}}],\"histogram\":[{\"marker\":{\"pattern\":{\"fillmode\":\"overlay\",\"size\":10,\"solidity\":0.2}},\"type\":\"histogram\"}],\"scattergl\":[{\"type\":\"scattergl\",\"marker\":{\"colorbar\":{\"outlinewidth\":0,\"ticks\":\"\"}}}],\"scatter3d\":[{\"type\":\"scatter3d\",\"line\":{\"colorbar\":{\"outlinewidth\":0,\"ticks\":\"\"}},\"marker\":{\"colorbar\":{\"outlinewidth\":0,\"ticks\":\"\"}}}],\"scattermapbox\":[{\"type\":\"scattermapbox\",\"marker\":{\"colorbar\":{\"outlinewidth\":0,\"ticks\":\"\"}}}],\"scatterternary\":[{\"type\":\"scatterternary\",\"marker\":{\"colorbar\":{\"outlinewidth\":0,\"ticks\":\"\"}}}],\"scattercarpet\":[{\"type\":\"scattercarpet\",\"marker\":{\"colorbar\":{\"outlinewidth\":0,\"ticks\":\"\"}}}],\"carpet\":[{\"aaxis\":{\"endlinecolor\":\"#2a3f5f\",\"gridcolor\":\"white\",\"linecolor\":\"white\",\"minorgridcolor\":\"white\",\"startlinecolor\":\"#2a3f5f\"},\"baxis\":{\"endlinecolor\":\"#2a3f5f\",\"gridcolor\":\"white\",\"linecolor\":\"white\",\"minorgridcolor\":\"white\",\"startlinecolor\":\"#2a3f5f\"},\"type\":\"carpet\"}],\"table\":[{\"cells\":{\"fill\":{\"color\":\"#EBF0F8\"},\"line\":{\"color\":\"white\"}},\"header\":{\"fill\":{\"color\":\"#C8D4E3\"},\"line\":{\"color\":\"white\"}},\"type\":\"table\"}],\"barpolar\":[{\"marker\":{\"line\":{\"color\":\"#E5ECF6\",\"width\":0.5},\"pattern\":{\"fillmode\":\"overlay\",\"size\":10,\"solidity\":0.2}},\"type\":\"barpolar\"}],\"pie\":[{\"automargin\":true,\"type\":\"pie\"}]},\"layout\":{\"autotypenumbers\":\"strict\",\"colorway\":[\"#636efa\",\"#EF553B\",\"#00cc96\",\"#ab63fa\",\"#FFA15A\",\"#19d3f3\",\"#FF6692\",\"#B6E880\",\"#FF97FF\",\"#FECB52\"],\"font\":{\"color\":\"#2a3f5f\"},\"hovermode\":\"closest\",\"hoverlabel\":{\"align\":\"left\"},\"paper_bgcolor\":\"white\",\"plot_bgcolor\":\"#E5ECF6\",\"polar\":{\"bgcolor\":\"#E5ECF6\",\"angularaxis\":{\"gridcolor\":\"white\",\"linecolor\":\"white\",\"ticks\":\"\"},\"radialaxis\":{\"gridcolor\":\"white\",\"linecolor\":\"white\",\"ticks\":\"\"}},\"ternary\":{\"bgcolor\":\"#E5ECF6\",\"aaxis\":{\"gridcolor\":\"white\",\"linecolor\":\"white\",\"ticks\":\"\"},\"baxis\":{\"gridcolor\":\"white\",\"linecolor\":\"white\",\"ticks\":\"\"},\"caxis\":{\"gridcolor\":\"white\",\"linecolor\":\"white\",\"ticks\":\"\"}},\"coloraxis\":{\"colorbar\":{\"outlinewidth\":0,\"ticks\":\"\"}},\"colorscale\":{\"sequential\":[[0.0,\"#0d0887\"],[0.1111111111111111,\"#46039f\"],[0.2222222222222222,\"#7201a8\"],[0.3333333333333333,\"#9c179e\"],[0.4444444444444444,\"#bd3786\"],[0.5555555555555556,\"#d8576b\"],[0.6666666666666666,\"#ed7953\"],[0.7777777777777778,\"#fb9f3a\"],[0.8888888888888888,\"#fdca26\"],[1.0,\"#f0f921\"]],\"sequentialminus\":[[0.0,\"#0d0887\"],[0.1111111111111111,\"#46039f\"],[0.2222222222222222,\"#7201a8\"],[0.3333333333333333,\"#9c179e\"],[0.4444444444444444,\"#bd3786\"],[0.5555555555555556,\"#d8576b\"],[0.6666666666666666,\"#ed7953\"],[0.7777777777777778,\"#fb9f3a\"],[0.8888888888888888,\"#fdca26\"],[1.0,\"#f0f921\"]],\"diverging\":[[0,\"#8e0152\"],[0.1,\"#c51b7d\"],[0.2,\"#de77ae\"],[0.3,\"#f1b6da\"],[0.4,\"#fde0ef\"],[0.5,\"#f7f7f7\"],[0.6,\"#e6f5d0\"],[0.7,\"#b8e186\"],[0.8,\"#7fbc41\"],[0.9,\"#4d9221\"],[1,\"#276419\"]]},\"xaxis\":{\"gridcolor\":\"white\",\"linecolor\":\"white\",\"ticks\":\"\",\"title\":{\"standoff\":15},\"zerolinecolor\":\"white\",\"automargin\":true,\"zerolinewidth\":2},\"yaxis\":{\"gridcolor\":\"white\",\"linecolor\":\"white\",\"ticks\":\"\",\"title\":{\"standoff\":15},\"zerolinecolor\":\"white\",\"automargin\":true,\"zerolinewidth\":2},\"scene\":{\"xaxis\":{\"backgroundcolor\":\"#E5ECF6\",\"gridcolor\":\"white\",\"linecolor\":\"white\",\"showbackground\":true,\"ticks\":\"\",\"zerolinecolor\":\"white\",\"gridwidth\":2},\"yaxis\":{\"backgroundcolor\":\"#E5ECF6\",\"gridcolor\":\"white\",\"linecolor\":\"white\",\"showbackground\":true,\"ticks\":\"\",\"zerolinecolor\":\"white\",\"gridwidth\":2},\"zaxis\":{\"backgroundcolor\":\"#E5ECF6\",\"gridcolor\":\"white\",\"linecolor\":\"white\",\"showbackground\":true,\"ticks\":\"\",\"zerolinecolor\":\"white\",\"gridwidth\":2}},\"shapedefaults\":{\"line\":{\"color\":\"#2a3f5f\"}},\"annotationdefaults\":{\"arrowcolor\":\"#2a3f5f\",\"arrowhead\":0,\"arrowwidth\":1},\"geo\":{\"bgcolor\":\"white\",\"landcolor\":\"#E5ECF6\",\"subunitcolor\":\"white\",\"showland\":true,\"showlakes\":true,\"lakecolor\":\"white\"},\"title\":{\"x\":0.05},\"mapbox\":{\"style\":\"light\"}}},\"legend\":{\"tracegroupgap\":0},\"title\":{\"text\":\"Word Cloud sous forme de Treemap de l’ensemble des tweets de la SciTweets (affichage des mots ayant un nombre d’occurrences supérieur à 30\"}},                        {\"responsive\": true}                    ).then(function(){\n",
              "                            \n",
              "var gd = document.getElementById('fe7ebd1e-2d58-4f95-bd22-7b35b4fea46e');\n",
              "var x = new MutationObserver(function (mutations, observer) {{\n",
              "        var display = window.getComputedStyle(gd).display;\n",
              "        if (!display || display === 'none') {{\n",
              "            console.log([gd, 'removed!']);\n",
              "            Plotly.purge(gd);\n",
              "            observer.disconnect();\n",
              "        }}\n",
              "}});\n",
              "\n",
              "// Listen for the removal of the full notebook cells\n",
              "var notebookContainer = gd.closest('#notebook-container');\n",
              "if (notebookContainer) {{\n",
              "    x.observe(notebookContainer, {childList: true});\n",
              "}}\n",
              "\n",
              "// Listen for the clearing of the current output cell\n",
              "var outputEl = gd.closest('.output');\n",
              "if (outputEl) {{\n",
              "    x.observe(outputEl, {childList: true});\n",
              "}}\n",
              "\n",
              "                        })                };                            </script>        </div>\n",
              "</body>\n",
              "</html>"
            ]
          },
          "metadata": {}
        },
        {
          "output_type": "stream",
          "name": "stdout",
          "text": [
            "None\n"
          ]
        }
      ]
    },
    {
      "cell_type": "markdown",
      "source": [
        "### Corrélations"
      ],
      "metadata": {
        "id": "4C0kgBKutc4T"
      }
    },
    {
      "cell_type": "code",
      "source": [
        "path_base=\"scitweets_export.tsv\"\n",
        "path_final=\"final.tsv\"\n",
        "df_base = initialize(path_base)\n",
        "df_final = initialize(path_final)\n",
        "\n",
        "df_base['text'] = df_base['text'].apply(full_clean)\n",
        "df_final['text'] = df_final['text'].apply(full_clean)\n",
        "\n",
        "corr_claim_reference = df_final['scientific_claim'].corr(df_final['scientific_reference'])\n",
        "corr_claim_related = df_final['scientific_claim'].corr(df_final['science_related'])\n",
        "corr_reference_related = df_final['scientific_reference'].corr(df_final['science_related'])\n",
        "corr_claim_reference_base = df_base['scientific_claim'].corr(df_base['scientific_reference'])\n",
        "corr_claim_related_base = df_base['scientific_claim'].corr(df_base['science_related'])\n",
        "corr_reference_related_base = df_base['scientific_reference'].corr(df_base['science_related'])\n",
        "\n",
        "print(\"Correlation dans le dataset augmenté:\\n\")\n",
        "print(corr_claim_reference)\n",
        "print(corr_claim_related)\n",
        "print(corr_reference_related)\n",
        "print(\"\\nCorrelation dans le dataset original:\\n\")\n",
        "print(corr_claim_reference_base)\n",
        "print(corr_claim_related_base)\n",
        "print(corr_reference_related_base)"
      ],
      "metadata": {
        "colab": {
          "base_uri": "https://localhost:8080/"
        },
        "id": "3WdAoH4zscoU",
        "outputId": "168bc13e-0ad2-44b4-e7cc-b62d2ee0b598"
      },
      "execution_count": null,
      "outputs": [
        {
          "output_type": "stream",
          "name": "stdout",
          "text": [
            "1\n",
            "155\n",
            "Correlation dans le dataset augmenté:\n",
            "\n",
            "0.17926109110475655\n",
            "0.6131115568601044\n",
            "0.5452734281842554\n",
            "\n",
            "Correlation dans le dataset original:\n",
            "\n",
            "0.4199949257936822\n",
            "0.7821556039724705\n",
            "0.6648035153192209\n"
          ]
        }
      ]
    },
    {
      "cell_type": "markdown",
      "source": [
        "### Distribution des classes"
      ],
      "metadata": {
        "id": "Jk27FaAQu8Tb"
      }
    },
    {
      "cell_type": "code",
      "source": [
        "path_base=\"scitweets_export.tsv\"\n",
        "path_final=\"final.tsv\"\n",
        "df_base = initialize(path_base)\n",
        "df_final = initialize(path_final)\n",
        "\n",
        "print(\"Distribution pour SciTweets\")\n",
        "print(\"\\n\")\n",
        "print(df_base['science_related'].value_counts())\n",
        "CLAIMREF = df_base['scientific_reference']+df_base['scientific_claim']\n",
        "print(\"Claim/Ref\")\n",
        "print(CLAIMREF.value_counts())\n",
        "print(df_base['scientific_context'].value_counts())\n",
        "print(df_base['scientific_reference'].value_counts())\n",
        "print(df_base['scientific_claim'].value_counts())\n",
        "print(\"\\n\")\n",
        "\n",
        "print(\"Distributuion pour Data Augmentée\")\n",
        "print(df_final['science_related'].value_counts())\n",
        "CLAIMREF = df_final['scientific_reference']+df_final['scientific_claim']\n",
        "print(\"Claim/Ref\")\n",
        "print(CLAIMREF.value_counts())\n",
        "print(df_final['scientific_context'].value_counts())\n",
        "print(df_final['scientific_reference'].value_counts())\n",
        "print(df_final['scientific_claim'].value_counts())\n"
      ],
      "metadata": {
        "colab": {
          "base_uri": "https://localhost:8080/"
        },
        "id": "SM4wZmaluZu_",
        "outputId": "e6effe86-b672-43ad-d0ac-63032dccb82a"
      },
      "execution_count": null,
      "outputs": [
        {
          "output_type": "stream",
          "name": "stdout",
          "text": [
            "1\n",
            "155\n",
            "Distribution pour SciTweets\n",
            "\n",
            "\n",
            "science_related\n",
            "0    765\n",
            "1    375\n",
            "Name: count, dtype: int64\n",
            "Claim/Ref\n",
            "0.0    798\n",
            "1.0    218\n",
            "2.0    124\n",
            "Name: count, dtype: int64\n",
            "scientific_context\n",
            "0.0    889\n",
            "1.0    251\n",
            "Name: count, dtype: int64\n",
            "scientific_reference\n",
            "0.0    937\n",
            "1.0    203\n",
            "Name: count, dtype: int64\n",
            "scientific_claim\n",
            "0.0    877\n",
            "1.0    263\n",
            "Name: count, dtype: int64\n",
            "\n",
            "\n",
            "Distributuion pour Data Augmentée\n",
            "science_related\n",
            "0    2393\n",
            "1    2170\n",
            "Name: count, dtype: int64\n",
            "Claim/Ref\n",
            "0.0    2826\n",
            "1.0    1345\n",
            "2.0     392\n",
            "Name: count, dtype: int64\n",
            "scientific_context\n",
            "0.0    3115\n",
            "1.0    1448\n",
            "Name: count, dtype: int64\n",
            "scientific_reference\n",
            "0.0    3594\n",
            "1.0     969\n",
            "Name: count, dtype: int64\n",
            "scientific_claim\n",
            "0.0    3403\n",
            "1.0    1160\n",
            "Name: count, dtype: int64\n"
          ]
        }
      ]
    },
    {
      "cell_type": "markdown",
      "source": [
        "### Liste des mots les plus fréquents"
      ],
      "metadata": {
        "id": "s5dpxNLQwWkk"
      }
    },
    {
      "cell_type": "code",
      "source": [
        "path_base=\"scitweets_export.tsv\"\n",
        "path_final=\"final.tsv\"\n",
        "df_base = initialize(path_base)\n",
        "df_final = initialize(path_final)\n",
        "\n",
        "from sklearn.feature_extraction.text import CountVectorizer\n",
        "vectorizer = CountVectorizer(stop_words='english')\n",
        "X = vectorizer.fit_transform(df_final['text'])\n",
        "word_freq = pd.DataFrame(X.toarray(), columns=vectorizer.get_feature_names_out())\n",
        "\n",
        "word_counts = word_freq.sum(axis=0).sort_values(ascending=False)\n",
        "print(word_counts.head(10))\n",
        "print('\\n')\n",
        "X2 = vectorizer.fit_transform(df_base['text'])\n",
        "word_freq2 = pd.DataFrame(X2.toarray(), columns=vectorizer.get_feature_names_out())\n",
        "word_counts2 = word_freq2.sum(axis=0).sort_values(ascending=False)\n",
        "\n",
        "print(word_counts2.head(10))"
      ],
      "metadata": {
        "colab": {
          "base_uri": "https://localhost:8080/"
        },
        "id": "yS-KhFs_wb0Q",
        "outputId": "12947b7e-f004-474f-f0ab-39deeeae77af"
      },
      "execution_count": null,
      "outputs": [
        {
          "output_type": "stream",
          "name": "stdout",
          "text": [
            "1\n",
            "155\n",
            "https       3130\n",
            "http         856\n",
            "support      436\n",
            "stop         425\n",
            "new          318\n",
            "people       244\n",
            "study        210\n",
            "science      168\n",
            "reports      166\n",
            "research     163\n",
            "dtype: int64\n",
            "\n",
            "\n",
            "https       705\n",
            "http        196\n",
            "stop        183\n",
            "support     152\n",
            "people       74\n",
            "new          70\n",
            "reports      62\n",
            "cause        48\n",
            "just         42\n",
            "increase     41\n",
            "dtype: int64\n"
          ]
        }
      ]
    },
    {
      "cell_type": "code",
      "source": [
        "def get_word_counts(df, column_name):\n",
        "    filtered_df = df[df[column_name] == 1]\n",
        "    X = vectorizer.fit_transform(filtered_df['text'])\n",
        "    word_freq = pd.DataFrame(X.toarray(), columns=vectorizer.get_feature_names_out())\n",
        "    word_counts = word_freq.sum(axis=0).sort_values(ascending=False)\n",
        "    word_counts = word_counts.head(10)\n",
        "    return word_counts\n",
        "\n",
        "\n",
        "# Fonction améliorée pour afficher les résultats sous forme de barres groupées\n",
        "def plot_comparison_word_counts(claim_counts, reference_counts, context_counts, title):\n",
        "    # Trouver les 10 mots les plus fréquents (en commun) dans chaque série\n",
        "    common_words = list(set(claim_counts.index).union(reference_counts.index).union(context_counts.index))\n",
        "    common_words = common_words[:10]  # Limiter à 10 mots\n",
        "\n",
        "    # Compléter les séries pour s'assurer que chaque colonne a les mêmes indices\n",
        "    claim_counts = claim_counts.reindex(common_words, fill_value=0)\n",
        "    reference_counts = reference_counts.reindex(common_words, fill_value=0)\n",
        "    context_counts = context_counts.reindex(common_words, fill_value=0)\n",
        "\n",
        "    # Créer un DataFrame pour comparer les trois catégories\n",
        "    comparison_df = pd.DataFrame({\n",
        "        'Mot': common_words,\n",
        "        'Claim': claim_counts.values,\n",
        "        'Reference': reference_counts.values,\n",
        "        'Context': context_counts.values\n",
        "    })\n",
        "\n",
        "    # Créer le plot\n",
        "    comparison_df.set_index('Mot').plot(kind='bar', figsize=(12, 6), color=['#FF6347', '#4682B4', '#32CD32'])\n",
        "\n",
        "    # Ajouter des labels et un titre\n",
        "    plt.title(title)\n",
        "    plt.xlabel('Mots')\n",
        "    plt.ylabel('Fréquence')\n",
        "    plt.xticks(rotation=45)\n",
        "    plt.tight_layout()\n",
        "    plt.show()"
      ],
      "metadata": {
        "id": "Vq8MtyhFxgDy"
      },
      "execution_count": null,
      "outputs": []
    },
    {
      "cell_type": "code",
      "source": [
        "claim_word_counts = get_word_counts(df_final, 'scientific_claim')\n",
        "reference_word_counts = get_word_counts(df_final, 'scientific_reference')\n",
        "context_word_counts = get_word_counts(df_final, 'scientific_context')\n",
        "print(plot_comparison_word_counts(claim_word_counts, reference_word_counts, context_word_counts, 'Mots les plus fréquents dans les trois catégories pour DataAug'))\n",
        "\n",
        "claim_word_counts2 = get_word_counts(df_base, 'scientific_claim')\n",
        "reference_word_counts2 = get_word_counts(df_base, 'scientific_reference')\n",
        "context_word_counts2 = get_word_counts(df_base, 'scientific_context')\n",
        "print(plot_comparison_word_counts(claim_word_counts2, reference_word_counts2, context_word_counts2, 'Mots les plus fréquents dans les trois catégories pour SciTweets'))"
      ],
      "metadata": {
        "colab": {
          "base_uri": "https://localhost:8080/",
          "height": 1039
        },
        "id": "hfNvWqf_xqHl",
        "outputId": "9d2a4342-2f53-42bc-a4b7-cc9caee44f80"
      },
      "execution_count": null,
      "outputs": [
        {
          "output_type": "display_data",
          "data": {
            "text/plain": [
              "<Figure size 1200x600 with 1 Axes>"
            ],
            "image/png": "[encoded data removed]"
          },
          "metadata": {}
        },
        {
          "output_type": "stream",
          "name": "stdout",
          "text": [
            "None\n"
          ]
        },
        {
          "output_type": "display_data",
          "data": {
            "text/plain": [
              "<Figure size 1200x600 with 1 Axes>"
            ],
            "image/png": "[encoded data removed]"
          },
          "metadata": {}
        },
        {
          "output_type": "stream",
          "name": "stdout",
          "text": [
            "None\n"
          ]
        }
      ]
    },
    {
      "cell_type": "markdown",
      "source": [
        "### Distribution des types de mots"
      ],
      "metadata": {
        "id": "Lt-F22l5yMWG"
      }
    },
    {
      "cell_type": "code",
      "source": [
        "path_base=\"scitweets_export.tsv\"\n",
        "path_final=\"final.tsv\"\n",
        "df_base = initialize(path_base)\n",
        "df_final = initialize(path_final)\n",
        "\n",
        "# Charger le modèle français de spaCy\n",
        "nlp = spacy.load('en_core_web_sm')\n",
        "\n",
        "# Fonction pour obtenir la distribution des types de mots\n",
        "def pos_distribution(text):\n",
        "    doc = nlp(text)\n",
        "    pos_tags = [token.pos_ for token in doc]\n",
        "    return pos_tags\n",
        "\n",
        "# Appliquer la fonction sur la colonne 'text'\n",
        "df_final['pos_tags'] = df_final['text'].apply(pos_distribution)\n",
        "\n",
        "# Calculer la distribution des types de mots\n",
        "all_pos_tags = [tag for sublist in df_final['pos_tags'] for tag in sublist]\n",
        "pos_dist = pd.Series(all_pos_tags).value_counts()\n",
        "\n",
        "print(\"Distribution des types de mots :\")\n",
        "print(pos_dist)\n"
      ],
      "metadata": {
        "colab": {
          "base_uri": "https://localhost:8080/"
        },
        "id": "_8irJbTZyST3",
        "outputId": "65c8d88b-d7e4-4380-a716-902f1ed9fa9c"
      },
      "execution_count": null,
      "outputs": [
        {
          "output_type": "stream",
          "name": "stdout",
          "text": [
            "1\n",
            "155\n",
            "Distribution des types de mots :\n",
            "NOUN     24267\n",
            "PROPN    13349\n",
            "PUNCT    13300\n",
            "VERB     11366\n",
            "ADP       9350\n",
            "ADJ       7044\n",
            "DET       5916\n",
            "AUX       4240\n",
            "PRON      4102\n",
            "SYM       2801\n",
            "ADV       2774\n",
            "PART      2388\n",
            "CCONJ     2351\n",
            "NUM       1976\n",
            "SCONJ     1274\n",
            "X          764\n",
            "INTJ       272\n",
            "SPACE       28\n",
            "Name: count, dtype: int64\n"
          ]
        }
      ]
    },
    {
      "cell_type": "markdown",
      "source": [
        "### Analyse n-gramme"
      ],
      "metadata": {
        "id": "vxVvm1XLzGjt"
      }
    },
    {
      "cell_type": "code",
      "source": [
        "path_base=\"scitweets_export.tsv\"\n",
        "path_final=\"final.tsv\"\n",
        "df_base = initialize(path_base)\n",
        "df_final = initialize(path_final)\n",
        "\n",
        "vectorizer = CountVectorizer(ngram_range=(2, 2), stop_words='english')\n",
        "X = vectorizer.fit_transform(df_final['text'])\n",
        "\n",
        "bigram_freq = pd.DataFrame(X.toarray(), columns=vectorizer.get_feature_names_out())\n",
        "\n",
        "bigram_counts = bigram_freq.sum(axis=0).sort_values(ascending=False)\n",
        "\n",
        "print(\"Bi-grammes de SciTweets\")\n",
        "print(bigram_counts.head(10))\n"
      ],
      "metadata": {
        "colab": {
          "base_uri": "https://localhost:8080/"
        },
        "id": "9p87OlN4zNka",
        "outputId": "9e746b34-3130-415e-b0ef-c51cc122d819"
      },
      "execution_count": null,
      "outputs": [
        {
          "output_type": "stream",
          "name": "stdout",
          "text": [
            "1\n",
            "155\n",
            "Bi-grammes de SciTweets\n",
            "new study           26\n",
            "reports https       26\n",
            "climate change      24\n",
            "covid 19            24\n",
            "https 5piti5xyzr    22\n",
            "new york            18\n",
            "science https       18\n",
            "social media        16\n",
            "support https       16\n",
            "50 000              15\n",
            "dtype: int64\n"
          ]
        }
      ]
    },
    {
      "cell_type": "code",
      "source": [
        "vectorizer = CountVectorizer(ngram_range=(3, 3), stop_words='english')\n",
        "X = vectorizer.fit_transform(df_final['text'])\n",
        "\n",
        "bigram_freq = pd.DataFrame(X.toarray(), columns=vectorizer.get_feature_names_out())\n",
        "\n",
        "bigram_counts = bigram_freq.sum(axis=0).sort_values(ascending=False)\n",
        "\n",
        "print(\"Tri-grammes de SciTweets\")\n",
        "print(bigram_counts.head(10))\n"
      ],
      "metadata": {
        "colab": {
          "base_uri": "https://localhost:8080/"
        },
        "id": "jVzYb85y1S0P",
        "outputId": "e677ec8f-484b-49b7-c8e7-4c48384fb571"
      },
      "execution_count": null,
      "outputs": [
        {
          "output_type": "stream",
          "name": "stdout",
          "text": [
            "Tri-grammes de SciTweets\n",
            "drug multiple med               11\n",
            "multiple med uses               11\n",
            "new drug multiple               11\n",
            "12 30 pm                         8\n",
            "31st dec 2020                    8\n",
            "guide https zfldc2ighl           7\n",
            "new york city                    7\n",
            "seven day average                7\n",
            "community acquired pneumonia     7\n",
            "leading cause death              6\n",
            "dtype: int64\n"
          ]
        }
      ]
    },
    {
      "cell_type": "code",
      "source": [
        "def get_ngram_frequencies(df, column_name, ngram_range=(2, 2)):\n",
        "    filtered_df = df[df[column_name] == 1]\n",
        "    vectorizer = CountVectorizer(ngram_range=ngram_range, stop_words='english')\n",
        "    X = vectorizer.fit_transform(filtered_df['text'])\n",
        "\n",
        "    ngram_freq = pd.DataFrame(X.toarray(), columns=vectorizer.get_feature_names_out())\n",
        "\n",
        "    ngram_counts = ngram_freq.sum(axis=0).sort_values(ascending=False)\n",
        "\n",
        "    return ngram_counts\n",
        "\n",
        "claim_bigrams = get_ngram_frequencies(df_final, 'scientific_claim', ngram_range=(2, 2))\n",
        "reference_bigrams = get_ngram_frequencies(df_final, 'scientific_reference', ngram_range=(2, 2))\n",
        "context_bigrams = get_ngram_frequencies(df_final, 'scientific_context', ngram_range=(2, 2))\n",
        "\n",
        "claim_trigrams = get_ngram_frequencies(df_final, 'scientific_claim', ngram_range=(3, 3))\n",
        "reference_trigrams = get_ngram_frequencies(df_final, 'scientific_reference', ngram_range=(3, 3))\n",
        "context_trigrams = get_ngram_frequencies(df_final, 'scientific_context', ngram_range=(3, 3))\n",
        "\n",
        "print(\"Top 10 bigrams pour 'scientific_claim':\")\n",
        "print(claim_bigrams.head(10))\n",
        "print(\"\\nTop 10 bigrams pour 'scientific_reference':\")\n",
        "print(reference_bigrams.head(10))\n",
        "print(\"\\nTop 10 bigrams pour 'scientific_context':\")\n",
        "print(context_bigrams.head(10))\n",
        "\n",
        "print(\"\\nTop 10 trigrams pour 'scientific_claim':\")\n",
        "print(claim_trigrams.head(10))\n",
        "print(\"\\nTop 10 trigrams pour 'scientific_reference':\")\n",
        "print(reference_trigrams.head(10))\n",
        "print(\"\\nTop 10 trigrams pour 'scientific_context':\")\n",
        "print(context_trigrams.head(10))"
      ],
      "metadata": {
        "colab": {
          "base_uri": "https://localhost:8080/"
        },
        "id": "_Ua7ptaP1H7l",
        "outputId": "8ea3169d-5a95-41e6-8e43-e910079547bd"
      },
      "execution_count": null,
      "outputs": [
        {
          "output_type": "stream",
          "name": "stdout",
          "text": [
            "Top 10 bigrams pour 'scientific_claim':\n",
            "new study           26\n",
            "covid 19            18\n",
            "climate change      15\n",
            "heart disease       11\n",
            "weight loss         11\n",
            "mental health       10\n",
            "men http            10\n",
            "https 5piti5xyzr    10\n",
            "diabetes https       9\n",
            "guilt guilt          9\n",
            "dtype: int64\n",
            "\n",
            "Top 10 bigrams pour 'scientific_reference':\n",
            "climate change      19\n",
            "new study           17\n",
            "https 5piti5xyzr    14\n",
            "https risn9v59eb    12\n",
            "https v7ymac4ifh    12\n",
            "http n7t5nebadv      9\n",
            "eurekamag https      9\n",
            "https m69nonckyd     8\n",
            "drug multiple        8\n",
            "https wzajo7udkr     8\n",
            "dtype: int64\n",
            "\n",
            "Top 10 bigrams pour 'scientific_context':\n",
            "climate change      23\n",
            "new study           19\n",
            "https 5piti5xyzr    18\n",
            "eurekamag https     12\n",
            "https risn9v59eb    12\n",
            "https v7ymac4ifh    12\n",
            "https oqnlfru51i    11\n",
            "science https       11\n",
            "http n7t5nebadv     10\n",
            "http qv1c1gjqin     10\n",
            "dtype: int64\n",
            "\n",
            "Top 10 trigrams pour 'scientific_claim':\n",
            "watch video https              6\n",
            "increase women color           6\n",
            "leads guilt guilt              6\n",
            "leading cause death            6\n",
            "https 32rwk7k2el https         5\n",
            "drug multiple med              5\n",
            "mental health https            5\n",
            "32rwk7k2el https vgawml0vss    5\n",
            "new drug multiple              5\n",
            "fzbo6ruf3j https iy12blhfd4    5\n",
            "dtype: int64\n",
            "\n",
            "Top 10 trigrams pour 'scientific_reference':\n",
            "drug multiple med               8\n",
            "multiple med uses               8\n",
            "new drug multiple               8\n",
            "community acquired pneumonia    7\n",
            "https 32rwk7k2el https          5\n",
            "atlantic https 88vd9r8zqm       5\n",
            "guide https zfldc2ighl          5\n",
            "https v7ymac4ifh https          5\n",
            "https hxzuorh9yc https          5\n",
            "cofhojfk63 http rmp7wnsmmy      5\n",
            "dtype: int64\n",
            "\n",
            "Top 10 trigrams pour 'scientific_context':\n",
            "new drug multiple               9\n",
            "multiple med uses               9\n",
            "drug multiple med               9\n",
            "community acquired pneumonia    7\n",
            "guide https zfldc2ighl          7\n",
            "climate change cause            6\n",
            "buff ly 1twwwz9                 6\n",
            "cofhojfk63 http rmp7wnsmmy      5\n",
            "v7ymac4ifh https risn9v59eb     5\n",
            "https v7ymac4ifh https          5\n",
            "dtype: int64\n"
          ]
        }
      ]
    },
    {
      "cell_type": "markdown",
      "source": [
        "### Diversité lexicale"
      ],
      "metadata": {
        "id": "RSeNtMBK1hQD"
      }
    },
    {
      "cell_type": "code",
      "source": [
        "path_base=\"scitweets_export.tsv\"\n",
        "path_final=\"final.tsv\"\n",
        "df_base = initialize(path_base)\n",
        "df_final = initialize(path_final)\n",
        "\n",
        "def lexical_diversity(text):\n",
        "    words = text.split()\n",
        "    unique_words = set(words)\n",
        "    return len(unique_words) / len(words)\n",
        "\n",
        "\n",
        "def lexical_diversity_by_class(df, column_name):\n",
        "    filtered_df = df[df[column_name] == 1]\n",
        "    filtered_df['lexical_diversity'] = filtered_df['text'].apply(lexical_diversity)\n",
        "    return filtered_df['lexical_diversity'].mean()\n",
        "\n",
        "claim_density = lexical_diversity_by_class(df_final, 'scientific_claim')\n",
        "reference_density = lexical_diversity_by_class(df_final, 'scientific_reference')\n",
        "context_density = lexical_diversity_by_class(df_final, 'scientific_context')\n",
        "\n",
        "\n",
        "print(f\"Densité lexicale pour 'scientific_claim' : {claim_density}\")\n",
        "print(f\"Densité lexicale pour 'scientific_reference' : {reference_density}\")\n",
        "print(f\"Densité lexicale pour 'scientific_context' : {context_density}\")\n",
        "\n",
        "\n"
      ],
      "metadata": {
        "colab": {
          "base_uri": "https://localhost:8080/"
        },
        "id": "oqo_WrTA1PEq",
        "outputId": "2e3b390b-ae82-45fa-9533-4f554f00ad3c"
      },
      "execution_count": null,
      "outputs": [
        {
          "output_type": "stream",
          "name": "stdout",
          "text": [
            "1\n",
            "155\n",
            "Densité lexicale pour 'scientific_claim' : 0.9576344976545011\n",
            "Densité lexicale pour 'scientific_reference' : 0.9656639402807864\n",
            "Densité lexicale pour 'scientific_context' : 0.9653010053840486\n"
          ]
        },
        {
          "output_type": "stream",
          "name": "stderr",
          "text": [
            "<ipython-input-104-762ea963ba5f>:14: SettingWithCopyWarning:\n",
            "\n",
            "\n",
            "A value is trying to be set on a copy of a slice from a DataFrame.\n",
            "Try using .loc[row_indexer,col_indexer] = value instead\n",
            "\n",
            "See the caveats in the documentation: https://pandas.pydata.org/pandas-docs/stable/user_guide/indexing.html#returning-a-view-versus-a-copy\n",
            "\n",
            "<ipython-input-104-762ea963ba5f>:14: SettingWithCopyWarning:\n",
            "\n",
            "\n",
            "A value is trying to be set on a copy of a slice from a DataFrame.\n",
            "Try using .loc[row_indexer,col_indexer] = value instead\n",
            "\n",
            "See the caveats in the documentation: https://pandas.pydata.org/pandas-docs/stable/user_guide/indexing.html#returning-a-view-versus-a-copy\n",
            "\n",
            "<ipython-input-104-762ea963ba5f>:14: SettingWithCopyWarning:\n",
            "\n",
            "\n",
            "A value is trying to be set on a copy of a slice from a DataFrame.\n",
            "Try using .loc[row_indexer,col_indexer] = value instead\n",
            "\n",
            "See the caveats in the documentation: https://pandas.pydata.org/pandas-docs/stable/user_guide/indexing.html#returning-a-view-versus-a-copy\n",
            "\n"
          ]
        }
      ]
    },
    {
      "cell_type": "markdown",
      "source": [
        "# Classifications"
      ],
      "metadata": {
        "id": "O9-pa3Ls2_Hc"
      }
    },
    {
      "cell_type": "markdown",
      "metadata": {
        "id": "tMacHuE86A0D"
      },
      "source": [
        "## {SCI} VS {NON-SCI}\n",
        "\n",
        "\n",
        "\n"
      ]
    },
    {
      "cell_type": "code",
      "execution_count": null,
      "metadata": {
        "id": "q5SXdfU1AWtm"
      },
      "outputs": [],
      "source": [
        "path = 'final.tsv'\n",
        "\n",
        "df_1 = initialize(path)\n",
        "df_1['text'] = df_1['text'].apply(full_clean)\n",
        "vect_1 = word2vec_vectorizer(df_1['text'])\n",
        "bst = test_optuna_binary(vect_1, df_1['science_related'])\n",
        "external_predict('scitweets_export.tsv', 'science_related', bst)\n"
      ]
    },
    {
      "cell_type": "code",
      "source": [
        "path = 'final.tsv'\n",
        "\n",
        "df_1 = initialize(path)\n",
        "df_1['text'] = df_1['text'].apply(full_clean)\n",
        "vect_1 = tfidf_vectorizer(df_1['text'])\n",
        "bst = test_optuna_binary(vect_1, df_1['science_related'])\n",
        "external_predict('scitweets_export.tsv', 'science_related', bst)"
      ],
      "metadata": {
        "id": "8I0ZEKtux1A4",
        "colab": {
          "base_uri": "https://localhost:8080/",
          "height": 2118
        },
        "outputId": "7b21bebc-6a80-4df1-f743-901653646c6d"
      },
      "execution_count": null,
      "outputs": [
        {
          "output_type": "stream",
          "name": "stdout",
          "text": [
            "155\n",
            "\n",
            "Optimisation pour : RandomForestClassifier\n",
            "Meilleurs paramètres : {'n_estimators': 79, 'max_depth': 32}\n",
            "[[428  50]\n",
            " [143 291]]\n",
            "F1 : 0.7941605925952845 \n",
            "Accuracy :0.7992544340039585 \n",
            " Precision : 0.7812263553095575 \n",
            " Recall: 0.8267281105990784\n",
            "\n",
            "\n",
            "Optimisation pour : SVC\n",
            "Meilleurs paramètres : {'C': 13.24840465348271, 'kernel': 'rbf', 'gamma': 0.0986535561841281}\n",
            "[[340 138]\n",
            " [ 52 382]]\n",
            "F1 : 0.7917435094306735 \n",
            "Accuracy :0.7808473126957591 \n",
            " Precision : 0.7225865691167671 \n",
            " Recall: 0.876036866359447\n",
            "\n",
            "\n",
            "Optimisation pour : MultinomialNB\n",
            "Meilleurs paramètres : {'alpha': 0.7597746973418781}\n",
            "[[409  69]\n",
            " [156 278]]\n",
            "F1 : 0.7119996102705372 \n",
            "Accuracy :0.7512586230087815 \n",
            " Precision : 0.7922928740695061 \n",
            " Recall: 0.6465437788018433\n",
            "\n",
            "\n",
            "Optimisation pour : KNeighborsClassifier\n",
            "Meilleurs paramètres : {'n_neighbors': 48, 'weights': 'distance'}\n",
            "[[427  51]\n",
            " [133 301]]\n",
            "F1 : 0.7819495051178609 \n",
            "Accuracy :0.8023226878807095 \n",
            " Precision : 0.8271363825947939 \n",
            " Recall: 0.7506912442396313\n",
            "\n",
            "\n",
            "Optimisation pour : DecisionTreeClassifier\n",
            "Meilleurs paramètres : {'max_depth': 20, 'criterion': 'entropy'}\n",
            "[[231 247]\n",
            " [ 11 423]]\n",
            "F1 : 0.7592047986335607 \n",
            "Accuracy :0.7063358697949693 \n",
            " Precision : 0.622393249256941 \n",
            " Recall: 0.9732718894009217\n",
            "\n",
            "\n",
            "Optimisation pour : LogisticRegression\n",
            "Meilleurs paramètres : {'C': 0.16968635200665397, 'solver': 'lbfgs'}\n",
            "[[320 158]\n",
            " [ 41 393]]\n",
            "F1 : 0.7774068929708428 \n",
            "Accuracy :0.760030552833343 \n",
            " Precision : 0.6957148357139765 \n",
            " Recall: 0.8811059907834101\n",
            "\n",
            "\n",
            "Optimisation pour : xgboost\n",
            "Meilleurs paramètres : {'max_depth': 17, 'learning_rate': 0.04719076471686872, 'n_estimators': 369}\n",
            "[[422  56]\n",
            " [137 297]]\n",
            "F1 : 0.7802931958547655 \n",
            "Accuracy :0.8003497242558751 \n",
            " Precision : 0.8239966451017262 \n",
            " Recall: 0.7511520737327189\n",
            "\n"
          ]
        },
        {
          "output_type": "display_data",
          "data": {
            "text/plain": [
              "<Figure size 1000x600 with 1 Axes>"
            ],
            "image/png": "[encoded data removed]"
          },
          "metadata": {}
        },
        {
          "output_type": "stream",
          "name": "stdout",
          "text": [
            "\n",
            " External prediction\n",
            "\n",
            "XGBClassifier(base_score=None, booster=None, callbacks=None,\n",
            "              colsample_bylevel=None, colsample_bynode=None,\n",
            "              colsample_bytree=None, device=None, early_stopping_rounds=None,\n",
            "              enable_categorical=False, eval_metric=None, feature_types=None,\n",
            "              gamma=None, grow_policy=None, importance_type=None,\n",
            "              interaction_constraints=None, learning_rate=0.04719076471686872,\n",
            "              max_bin=None, max_cat_threshold=None, max_cat_to_onehot=None,\n",
            "              max_delta_step=None, max_depth=17, max_leaves=None,\n",
            "              min_child_weight=None, missing=nan, monotone_constraints=None,\n",
            "              multi_strategy=None, n_estimators=369, n_jobs=None,\n",
            "              num_parallel_tree=None, random_state=None, ...)\n",
            "\n",
            "              precision    recall  f1-score   support\n",
            "\n",
            "           0       0.69      0.57      0.62       765\n",
            "           1       0.35      0.47      0.40       375\n",
            "\n",
            "    accuracy                           0.54      1140\n",
            "   macro avg       0.52      0.52      0.51      1140\n",
            "weighted avg       0.58      0.54      0.55      1140\n",
            "\n",
            "[[436 329]\n",
            " [197 178]]\n",
            "0.5513402861332772\n"
          ]
        }
      ]
    },
    {
      "cell_type": "code",
      "execution_count": null,
      "metadata": {
        "id": "pimli0yu54cD",
        "colab": {
          "base_uri": "https://localhost:8080/",
          "height": 2118
        },
        "outputId": "f70e5a2f-545e-4309-b454-7d455d0ba5cd"
      },
      "outputs": [
        {
          "output_type": "stream",
          "name": "stdout",
          "text": [
            "1\n",
            "\n",
            "Optimisation pour : RandomForestClassifier\n",
            "Meilleurs paramètres : {'n_estimators': 164, 'max_depth': 20}\n",
            "[[111  42]\n",
            " [ 10  65]]\n",
            "F1 : 0.6938860147235627 \n",
            "Accuracy :0.7473684210526316 \n",
            " Precision : 0.5778180964344226 \n",
            " Recall: 0.8693333333333334\n",
            "\n",
            "\n",
            "Optimisation pour : SVC\n",
            "Meilleurs paramètres : {'C': 0.9921497824554808, 'kernel': 'linear', 'gamma': 0.003242214312576981}\n",
            "[[104  49]\n",
            " [  8  67]]\n",
            "F1 : 0.6805443818441397 \n",
            "Accuracy :0.736842105263158 \n",
            " Precision : 0.5677507540256775 \n",
            " Recall: 0.8506666666666667\n",
            "\n",
            "\n",
            "Optimisation pour : MultinomialNB\n",
            "Meilleurs paramètres : {'alpha': 0.20538092422832266}\n",
            "[[140  13]\n",
            " [ 38  37]]\n",
            "F1 : 0.5491970115810222 \n",
            "Accuracy :0.7614035087719299 \n",
            " Precision : 0.7263527131782945 \n",
            " Recall: 0.44266666666666665\n",
            "\n",
            "\n",
            "Optimisation pour : KNeighborsClassifier\n",
            "Meilleurs paramètres : {'n_neighbors': 50, 'weights': 'distance'}\n",
            "[[94 59]\n",
            " [12 63]]\n",
            "F1 : 0.6102942288618323 \n",
            "Accuracy :0.6947368421052632 \n",
            " Precision : 0.5281237020016791 \n",
            " Recall: 0.7306666666666667\n",
            "\n",
            "\n",
            "Optimisation pour : DecisionTreeClassifier\n",
            "Meilleurs paramètres : {'max_depth': 28, 'criterion': 'gini'}\n",
            "[[101  52]\n",
            " [  6  69]]\n",
            "F1 : 0.6766080116924826 \n",
            "Accuracy :0.737719298245614 \n",
            " Precision : 0.5699638464302496 \n",
            " Recall: 0.8346666666666667\n",
            "\n",
            "\n",
            "Optimisation pour : LogisticRegression\n",
            "Meilleurs paramètres : {'C': 1.979597217948674, 'solver': 'saga'}\n",
            "[[109  44]\n",
            " [ 12  63]]\n",
            "F1 : 0.698080251178796 \n",
            "Accuracy :0.7631578947368421 \n",
            " Precision : 0.6015340109941792 \n",
            " Recall: 0.8320000000000001\n",
            "\n",
            "\n",
            "Optimisation pour : xgboost\n",
            "Meilleurs paramètres : {'max_depth': 30, 'learning_rate': 0.00974888686262631, 'n_estimators': 595}\n",
            "[[119  34]\n",
            " [ 18  57]]\n",
            "F1 : 0.6822902327152457 \n",
            "Accuracy :0.7763157894736842 \n",
            " Precision : 0.6405684672926052 \n",
            " Recall: 0.7306666666666667\n",
            "\n"
          ]
        },
        {
          "output_type": "display_data",
          "data": {
            "text/plain": [
              "<Figure size 1000x600 with 1 Axes>"
            ],
            "image/png": "[encoded data removed]"
          },
          "metadata": {}
        },
        {
          "output_type": "stream",
          "name": "stdout",
          "text": [
            "\n",
            " External prediction\n",
            "\n",
            "XGBClassifier(base_score=None, booster=None, callbacks=None,\n",
            "              colsample_bylevel=None, colsample_bynode=None,\n",
            "              colsample_bytree=None, device=None, early_stopping_rounds=None,\n",
            "              enable_categorical=False, eval_metric=None, feature_types=None,\n",
            "              gamma=None, grow_policy=None, importance_type=None,\n",
            "              interaction_constraints=None, learning_rate=0.00974888686262631,\n",
            "              max_bin=None, max_cat_threshold=None, max_cat_to_onehot=None,\n",
            "              max_delta_step=None, max_depth=30, max_leaves=None,\n",
            "              min_child_weight=None, missing=nan, monotone_constraints=None,\n",
            "              multi_strategy=None, n_estimators=595, n_jobs=None,\n",
            "              num_parallel_tree=None, random_state=None, ...)\n",
            "\n",
            "              precision    recall  f1-score   support\n",
            "\n",
            "           0       0.93      0.86      0.90       765\n",
            "           1       0.76      0.87      0.81       375\n",
            "\n",
            "    accuracy                           0.87      1140\n",
            "   macro avg       0.84      0.87      0.85      1140\n",
            "weighted avg       0.87      0.87      0.87      1140\n",
            "\n",
            "[[661 104]\n",
            " [ 49 326]]\n",
            "0.8678720751768884\n"
          ]
        }
      ],
      "source": [
        "path = 'scitweets_export.tsv'\n",
        "\n",
        "df_1 = initialize(path)\n",
        "df_1['text'] = df_1['text'].apply(full_clean)\n",
        "vect_1 = tfidf_vectorizer(df_1['text'])\n",
        "bst = test_optuna_binary(vect_1, df_1['science_related'])\n",
        "external_predict('scitweets_export.tsv', 'science_related', bst)"
      ]
    },
    {
      "cell_type": "code",
      "source": [
        "path = 'scitweets_export.tsv'\n",
        "\n",
        "df_1 = initialize(path)\n",
        "df_1['text'] = df_1['text'].apply(full_clean)\n",
        "vect_1 = tfidf_vectorizer(df_1['text'])\n",
        "X,y = smote( df_1['science_related'],vect_1, 'science_related')\n",
        "\n",
        "bst = test_optuna_binary(X, y)\n",
        "\n"
      ],
      "metadata": {
        "id": "lRC8uTf6I9dn",
        "colab": {
          "base_uri": "https://localhost:8080/",
          "height": 373
        },
        "collapsed": true,
        "outputId": "b084c643-a1bb-4822-a6ac-3a54d607c85e"
      },
      "execution_count": null,
      "outputs": [
        {
          "output_type": "stream",
          "name": "stdout",
          "text": [
            "1\n"
          ]
        },
        {
          "output_type": "error",
          "ename": "AttributeError",
          "evalue": "'Series' object has no attribute 'toarray'",
          "traceback": [
            "\u001b[0;31m---------------------------------------------------------------------------\u001b[0m",
            "\u001b[0;31mAttributeError\u001b[0m                            Traceback (most recent call last)",
            "\u001b[0;32m<ipython-input-109-5ee782ba7d21>\u001b[0m in \u001b[0;36m<cell line: 0>\u001b[0;34m()\u001b[0m\n\u001b[1;32m      4\u001b[0m \u001b[0mdf_1\u001b[0m\u001b[0;34m[\u001b[0m\u001b[0;34m'text'\u001b[0m\u001b[0;34m]\u001b[0m \u001b[0;34m=\u001b[0m \u001b[0mdf_1\u001b[0m\u001b[0;34m[\u001b[0m\u001b[0;34m'text'\u001b[0m\u001b[0;34m]\u001b[0m\u001b[0;34m.\u001b[0m\u001b[0mapply\u001b[0m\u001b[0;34m(\u001b[0m\u001b[0mfull_clean\u001b[0m\u001b[0;34m)\u001b[0m\u001b[0;34m\u001b[0m\u001b[0;34m\u001b[0m\u001b[0m\n\u001b[1;32m      5\u001b[0m \u001b[0mvect_1\u001b[0m \u001b[0;34m=\u001b[0m \u001b[0mtfidf_vectorizer\u001b[0m\u001b[0;34m(\u001b[0m\u001b[0mdf_1\u001b[0m\u001b[0;34m[\u001b[0m\u001b[0;34m'text'\u001b[0m\u001b[0;34m]\u001b[0m\u001b[0;34m)\u001b[0m\u001b[0;34m\u001b[0m\u001b[0;34m\u001b[0m\u001b[0m\n\u001b[0;32m----> 6\u001b[0;31m \u001b[0mX\u001b[0m\u001b[0;34m,\u001b[0m\u001b[0my\u001b[0m \u001b[0;34m=\u001b[0m \u001b[0msmote\u001b[0m\u001b[0;34m(\u001b[0m \u001b[0mdf_1\u001b[0m\u001b[0;34m[\u001b[0m\u001b[0;34m'science_related'\u001b[0m\u001b[0;34m]\u001b[0m\u001b[0;34m,\u001b[0m\u001b[0mvect_1\u001b[0m\u001b[0;34m,\u001b[0m \u001b[0;34m'science_related'\u001b[0m\u001b[0;34m)\u001b[0m\u001b[0;34m\u001b[0m\u001b[0;34m\u001b[0m\u001b[0m\n\u001b[0m\u001b[1;32m      7\u001b[0m \u001b[0;34m\u001b[0m\u001b[0m\n\u001b[1;32m      8\u001b[0m \u001b[0mbst\u001b[0m \u001b[0;34m=\u001b[0m \u001b[0mtest_optuna_binary\u001b[0m\u001b[0;34m(\u001b[0m\u001b[0mX\u001b[0m\u001b[0;34m,\u001b[0m \u001b[0my\u001b[0m\u001b[0;34m)\u001b[0m\u001b[0;34m\u001b[0m\u001b[0;34m\u001b[0m\u001b[0m\n",
            "\u001b[0;32m<ipython-input-85-60dc3dd79f91>\u001b[0m in \u001b[0;36msmote\u001b[0;34m(vect, df, clas)\u001b[0m\n\u001b[1;32m      3\u001b[0m         \u001b[0mX_resampled_1\u001b[0m \u001b[0;34m=\u001b[0m \u001b[0mvect\u001b[0m\u001b[0;34m\u001b[0m\u001b[0;34m\u001b[0m\u001b[0m\n\u001b[1;32m      4\u001b[0m     \u001b[0;32melse\u001b[0m\u001b[0;34m:\u001b[0m\u001b[0;34m\u001b[0m\u001b[0;34m\u001b[0m\u001b[0m\n\u001b[0;32m----> 5\u001b[0;31m         \u001b[0mX_resampled_1\u001b[0m \u001b[0;34m=\u001b[0m \u001b[0mvect\u001b[0m\u001b[0;34m.\u001b[0m\u001b[0mtoarray\u001b[0m\u001b[0;34m(\u001b[0m\u001b[0;34m)\u001b[0m\u001b[0;34m\u001b[0m\u001b[0;34m\u001b[0m\u001b[0m\n\u001b[0m\u001b[1;32m      6\u001b[0m \u001b[0;34m\u001b[0m\u001b[0m\n\u001b[1;32m      7\u001b[0m     \u001b[0my_resampled_1\u001b[0m \u001b[0;34m=\u001b[0m \u001b[0mdf\u001b[0m\u001b[0;34m[\u001b[0m\u001b[0mclas\u001b[0m\u001b[0;34m]\u001b[0m\u001b[0;34m.\u001b[0m\u001b[0mvalues\u001b[0m\u001b[0;34m\u001b[0m\u001b[0;34m\u001b[0m\u001b[0m\n",
            "\u001b[0;32m/usr/local/lib/python3.11/dist-packages/pandas/core/generic.py\u001b[0m in \u001b[0;36m__getattr__\u001b[0;34m(self, name)\u001b[0m\n\u001b[1;32m   6297\u001b[0m         ):\n\u001b[1;32m   6298\u001b[0m             \u001b[0;32mreturn\u001b[0m \u001b[0mself\u001b[0m\u001b[0;34m[\u001b[0m\u001b[0mname\u001b[0m\u001b[0;34m]\u001b[0m\u001b[0;34m\u001b[0m\u001b[0;34m\u001b[0m\u001b[0m\n\u001b[0;32m-> 6299\u001b[0;31m         \u001b[0;32mreturn\u001b[0m \u001b[0mobject\u001b[0m\u001b[0;34m.\u001b[0m\u001b[0m__getattribute__\u001b[0m\u001b[0;34m(\u001b[0m\u001b[0mself\u001b[0m\u001b[0;34m,\u001b[0m \u001b[0mname\u001b[0m\u001b[0;34m)\u001b[0m\u001b[0;34m\u001b[0m\u001b[0;34m\u001b[0m\u001b[0m\n\u001b[0m\u001b[1;32m   6300\u001b[0m \u001b[0;34m\u001b[0m\u001b[0m\n\u001b[1;32m   6301\u001b[0m     \u001b[0;34m@\u001b[0m\u001b[0mfinal\u001b[0m\u001b[0;34m\u001b[0m\u001b[0;34m\u001b[0m\u001b[0m\n",
            "\u001b[0;31mAttributeError\u001b[0m: 'Series' object has no attribute 'toarray'"
          ]
        }
      ]
    },
    {
      "cell_type": "code",
      "execution_count": null,
      "metadata": {
        "id": "JovIMFuMD-LL",
        "colab": {
          "base_uri": "https://localhost:8080/",
          "height": 2291
        },
        "outputId": "e6ecb298-5956-41e9-b3a1-5c4d5e58c911"
      },
      "outputs": [
        {
          "output_type": "stream",
          "name": "stdout",
          "text": [
            "155\n",
            "science_related\n",
            "0    2393\n",
            "1    2170\n",
            "Name: count, dtype: int64\n",
            "\n",
            "science_related\n",
            "0    2170\n",
            "1    2170\n",
            "Name: count, dtype: int64\n",
            "\n",
            "\n",
            "Optimisation pour : RandomForestClassifier\n",
            "Meilleurs paramètres : {'n_estimators': 129, 'max_depth': 15}\n",
            "[[271 163]\n",
            " [ 24 410]]\n",
            "F1 : 0.8052628843947335 \n",
            "Accuracy :0.7764976958525346 \n",
            " Precision : 0.7137054953804851 \n",
            " Recall: 0.9239631336405529\n",
            "\n",
            "\n",
            "Optimisation pour : SVC\n",
            "Meilleurs paramètres : {'C': 0.04090077402815068, 'kernel': 'linear', 'gamma': 0.0005110058701281586}\n",
            "[[237 197]\n",
            " [ 37 397]]\n",
            "F1 : 0.7721516523246703 \n",
            "Accuracy :0.7324884792626728 \n",
            " Precision : 0.6725538317569325 \n",
            " Recall: 0.9064516129032258\n",
            "\n",
            "\n",
            "Optimisation pour : MultinomialNB\n",
            "Meilleurs paramètres : {'alpha': 0.8871161742337824}\n",
            "[[362  72]\n",
            " [132 302]]\n",
            "F1 : 0.7320250708977226 \n",
            "Accuracy :0.7534562211981567 \n",
            " Precision : 0.8014553338444926 \n",
            " Recall: 0.6737327188940092\n",
            "\n",
            "\n",
            "Optimisation pour : KNeighborsClassifier\n",
            "Meilleurs paramètres : {'n_neighbors': 25, 'weights': 'distance'}\n",
            "[[377  57]\n",
            " [110 324]]\n",
            "F1 : 0.8121232685459211 \n",
            "Accuracy :0.8006912442396313 \n",
            " Precision : 0.7710215016769817 \n",
            " Recall: 0.864516129032258\n",
            "\n",
            "\n",
            "Optimisation pour : DecisionTreeClassifier\n",
            "Meilleurs paramètres : {'max_depth': 15, 'criterion': 'entropy'}\n",
            "[[166 268]\n",
            " [  5 429]]\n",
            "F1 : 0.758961544994966 \n",
            "Accuracy :0.6914746543778801 \n",
            " Precision : 0.6231130148300631 \n",
            " Recall: 0.9709677419354839\n",
            "\n",
            "\n",
            "Optimisation pour : LogisticRegression\n",
            "Meilleurs paramètres : {'C': 0.10274316384282477, 'solver': 'saga'}\n",
            "[[267 167]\n",
            " [ 49 385]]\n",
            "F1 : 0.782949268843153 \n",
            "Accuracy :0.7550691244239631 \n",
            " Precision : 0.7030830208318778 \n",
            " Recall: 0.883410138248848\n",
            "\n",
            "\n",
            "Optimisation pour : xgboost\n",
            "Meilleurs paramètres : {'max_depth': 19, 'learning_rate': 0.01926243747302984, 'n_estimators': 956}\n",
            "[[306 128]\n",
            " [ 30 404]]\n",
            "F1 : 0.8179927688490571 \n",
            "Accuracy :0.8073732718894009 \n",
            " Precision : 0.7775286707879455 \n",
            " Recall: 0.8737327188940092\n",
            "\n"
          ]
        },
        {
          "output_type": "display_data",
          "data": {
            "text/plain": [
              "<Figure size 1000x600 with 1 Axes>"
            ],
            "image/png": "[encoded data removed]"
          },
          "metadata": {}
        },
        {
          "output_type": "stream",
          "name": "stdout",
          "text": [
            "\n",
            " External prediction\n",
            "\n",
            "XGBClassifier(base_score=None, booster=None, callbacks=None,\n",
            "              colsample_bylevel=None, colsample_bynode=None,\n",
            "              colsample_bytree=None, device=None, early_stopping_rounds=None,\n",
            "              enable_categorical=False, eval_metric=None, feature_types=None,\n",
            "              gamma=None, grow_policy=None, importance_type=None,\n",
            "              interaction_constraints=None, learning_rate=0.01926243747302984,\n",
            "              max_bin=None, max_cat_threshold=None, max_cat_to_onehot=None,\n",
            "              max_delta_step=None, max_depth=19, max_leaves=None,\n",
            "              min_child_weight=None, missing=nan, monotone_constraints=None,\n",
            "              multi_strategy=None, n_estimators=956, n_jobs=None,\n",
            "              num_parallel_tree=None, random_state=None, ...)\n",
            "\n",
            "              precision    recall  f1-score   support\n",
            "\n",
            "           0       0.66      0.29      0.41       765\n",
            "           1       0.33      0.69      0.44       375\n",
            "\n",
            "    accuracy                           0.43      1140\n",
            "   macro avg       0.49      0.49      0.42      1140\n",
            "weighted avg       0.55      0.43      0.42      1140\n",
            "\n",
            "[[225 540]\n",
            " [115 260]]\n",
            "0.4188560599534844\n"
          ]
        }
      ],
      "source": [
        "#Downsampling\n",
        "path = 'final.tsv'\n",
        "\n",
        "df_1 = initialize(path)\n",
        "df_1['text'] = df_1['text'].apply(full_clean)\n",
        "df_1 = downsampling(df_1, 'science_related')\n",
        "vect_1 = tfidf_vectorizer(df_1['text'])\n",
        "bst = test_optuna_binary(vect_1, df_1['science_related'])\n",
        "external_predict('scitweets_export.tsv', 'science_related', bst)"
      ]
    },
    {
      "cell_type": "code",
      "source": [
        "#Downsampling\n",
        "path = 'final.tsv'\n",
        "\n",
        "df_1 = initialize(path)\n",
        "df_1['text'] = df_1['text'].apply(full_clean)\n",
        "df_1 = downsampling(df_1, 'science_related')\n",
        "vect_1 = word2vec_vectorizer(df_1['text'])\n",
        "bst = test_optuna_binary(vect_1, df_1['science_related'])\n",
        "external_predict('scitweets_export.tsv', 'science_related', bst)"
      ],
      "metadata": {
        "id": "V1LDs8okSHOX"
      },
      "execution_count": null,
      "outputs": []
    },
    {
      "cell_type": "code",
      "source": [
        "path = 'final.tsv'\n",
        "\n",
        "df_1 = initialize(path)\n",
        "df_1['text'] = df_1['text'].apply(full_clean)\n",
        "df_1.head()\n",
        "lst = lstm_bin(df_1['text'], df_1['science_related'])\n",
        "external_predict('scitweets_export.tsv', 'science_related', lst)\n"
      ],
      "metadata": {
        "id": "n6CM-vhh9rZe",
        "collapsed": true,
        "colab": {
          "base_uri": "https://localhost:8080/",
          "height": 332
        },
        "outputId": "de3cb4d2-7a7d-47d8-bb1e-d0c843b41b24"
      },
      "execution_count": null,
      "outputs": [
        {
          "output_type": "stream",
          "name": "stdout",
          "text": [
            "155\n"
          ]
        },
        {
          "output_type": "error",
          "ename": "NameError",
          "evalue": "name 'vocab_size' is not defined",
          "traceback": [
            "\u001b[0;31m---------------------------------------------------------------------------\u001b[0m",
            "\u001b[0;31mNameError\u001b[0m                                 Traceback (most recent call last)",
            "\u001b[0;32m<ipython-input-111-759f1f121061>\u001b[0m in \u001b[0;36m<cell line: 0>\u001b[0;34m()\u001b[0m\n\u001b[1;32m      4\u001b[0m \u001b[0mdf_1\u001b[0m\u001b[0;34m[\u001b[0m\u001b[0;34m'text'\u001b[0m\u001b[0;34m]\u001b[0m \u001b[0;34m=\u001b[0m \u001b[0mdf_1\u001b[0m\u001b[0;34m[\u001b[0m\u001b[0;34m'text'\u001b[0m\u001b[0;34m]\u001b[0m\u001b[0;34m.\u001b[0m\u001b[0mapply\u001b[0m\u001b[0;34m(\u001b[0m\u001b[0mfull_clean\u001b[0m\u001b[0;34m)\u001b[0m\u001b[0;34m\u001b[0m\u001b[0;34m\u001b[0m\u001b[0m\n\u001b[1;32m      5\u001b[0m \u001b[0mdf_1\u001b[0m\u001b[0;34m.\u001b[0m\u001b[0mhead\u001b[0m\u001b[0;34m(\u001b[0m\u001b[0;34m)\u001b[0m\u001b[0;34m\u001b[0m\u001b[0;34m\u001b[0m\u001b[0m\n\u001b[0;32m----> 6\u001b[0;31m \u001b[0mlst\u001b[0m \u001b[0;34m=\u001b[0m \u001b[0mlstm_bin\u001b[0m\u001b[0;34m(\u001b[0m\u001b[0mdf_1\u001b[0m\u001b[0;34m[\u001b[0m\u001b[0;34m'text'\u001b[0m\u001b[0;34m]\u001b[0m\u001b[0;34m,\u001b[0m \u001b[0mdf_1\u001b[0m\u001b[0;34m[\u001b[0m\u001b[0;34m'science_related'\u001b[0m\u001b[0;34m]\u001b[0m\u001b[0;34m)\u001b[0m\u001b[0;34m\u001b[0m\u001b[0;34m\u001b[0m\u001b[0m\n\u001b[0m\u001b[1;32m      7\u001b[0m \u001b[0mexternal_predict\u001b[0m\u001b[0;34m(\u001b[0m\u001b[0;34m'scitweets_export.tsv'\u001b[0m\u001b[0;34m,\u001b[0m \u001b[0;34m'science_related'\u001b[0m\u001b[0;34m,\u001b[0m \u001b[0mlst\u001b[0m\u001b[0;34m)\u001b[0m\u001b[0;34m\u001b[0m\u001b[0;34m\u001b[0m\u001b[0m\n",
            "\u001b[0;32m<ipython-input-91-cbcd86c4df5c>\u001b[0m in \u001b[0;36mlstm_bin\u001b[0;34m(text, labels, epochs)\u001b[0m\n\u001b[1;32m      4\u001b[0m \u001b[0;34m\u001b[0m\u001b[0m\n\u001b[1;32m      5\u001b[0m \u001b[0;34m\u001b[0m\u001b[0m\n\u001b[0;32m----> 6\u001b[0;31m     \u001b[0mtokenizer\u001b[0m \u001b[0;34m=\u001b[0m \u001b[0mTokenizer\u001b[0m\u001b[0;34m(\u001b[0m\u001b[0mnum_words\u001b[0m\u001b[0;34m=\u001b[0m\u001b[0mvocab_size\u001b[0m\u001b[0;34m,\u001b[0m \u001b[0moov_token\u001b[0m\u001b[0;34m=\u001b[0m\u001b[0;34m\"<OOV>\"\u001b[0m\u001b[0;34m)\u001b[0m\u001b[0;34m\u001b[0m\u001b[0;34m\u001b[0m\u001b[0m\n\u001b[0m\u001b[1;32m      7\u001b[0m     \u001b[0mtokenizer\u001b[0m\u001b[0;34m.\u001b[0m\u001b[0mfit_on_texts\u001b[0m\u001b[0;34m(\u001b[0m\u001b[0mtext\u001b[0m\u001b[0;34m)\u001b[0m\u001b[0;34m\u001b[0m\u001b[0;34m\u001b[0m\u001b[0m\n\u001b[1;32m      8\u001b[0m     \u001b[0msequences\u001b[0m \u001b[0;34m=\u001b[0m \u001b[0mtokenizer\u001b[0m\u001b[0;34m.\u001b[0m\u001b[0mtexts_to_sequences\u001b[0m\u001b[0;34m(\u001b[0m\u001b[0mtext\u001b[0m\u001b[0;34m)\u001b[0m\u001b[0;34m\u001b[0m\u001b[0;34m\u001b[0m\u001b[0m\n",
            "\u001b[0;31mNameError\u001b[0m: name 'vocab_size' is not defined"
          ]
        }
      ]
    },
    {
      "cell_type": "code",
      "source": [
        "path = 'final.tsv'\n",
        "\n",
        "df_1 = initialize(path)\n",
        "df_1['text'] = df_1['text'].apply(full_clean)\n",
        "df_1 = downsampling(df_1, 'science_related')\n",
        "lst = lstm_bin(df_1['text'], df_1['science_related'])\n",
        "external_predict('scitweets_export.tsv', 'science_related', lst)\n"
      ],
      "metadata": {
        "id": "Nr5CJUJps7YV",
        "colab": {
          "base_uri": "https://localhost:8080/",
          "height": 506
        },
        "collapsed": true,
        "outputId": "eeceb3c0-0864-40ea-84ca-3d7f7321d009"
      },
      "execution_count": null,
      "outputs": [
        {
          "output_type": "stream",
          "name": "stdout",
          "text": [
            "155\n",
            "science_related\n",
            "0    2393\n",
            "1    2170\n",
            "Name: count, dtype: int64\n",
            "\n",
            "science_related\n",
            "0    2170\n",
            "1    2170\n",
            "Name: count, dtype: int64\n",
            "\n"
          ]
        },
        {
          "output_type": "error",
          "ename": "NameError",
          "evalue": "name 'vocab_size' is not defined",
          "traceback": [
            "\u001b[0;31m---------------------------------------------------------------------------\u001b[0m",
            "\u001b[0;31mNameError\u001b[0m                                 Traceback (most recent call last)",
            "\u001b[0;32m<ipython-input-112-6853958e00cb>\u001b[0m in \u001b[0;36m<cell line: 0>\u001b[0;34m()\u001b[0m\n\u001b[1;32m      4\u001b[0m \u001b[0mdf_1\u001b[0m\u001b[0;34m[\u001b[0m\u001b[0;34m'text'\u001b[0m\u001b[0;34m]\u001b[0m \u001b[0;34m=\u001b[0m \u001b[0mdf_1\u001b[0m\u001b[0;34m[\u001b[0m\u001b[0;34m'text'\u001b[0m\u001b[0;34m]\u001b[0m\u001b[0;34m.\u001b[0m\u001b[0mapply\u001b[0m\u001b[0;34m(\u001b[0m\u001b[0mfull_clean\u001b[0m\u001b[0;34m)\u001b[0m\u001b[0;34m\u001b[0m\u001b[0;34m\u001b[0m\u001b[0m\n\u001b[1;32m      5\u001b[0m \u001b[0mdf_1\u001b[0m \u001b[0;34m=\u001b[0m \u001b[0mdownsampling\u001b[0m\u001b[0;34m(\u001b[0m\u001b[0mdf_1\u001b[0m\u001b[0;34m,\u001b[0m \u001b[0;34m'science_related'\u001b[0m\u001b[0;34m)\u001b[0m\u001b[0;34m\u001b[0m\u001b[0;34m\u001b[0m\u001b[0m\n\u001b[0;32m----> 6\u001b[0;31m \u001b[0mlst\u001b[0m \u001b[0;34m=\u001b[0m \u001b[0mlstm_bin\u001b[0m\u001b[0;34m(\u001b[0m\u001b[0mdf_1\u001b[0m\u001b[0;34m[\u001b[0m\u001b[0;34m'text'\u001b[0m\u001b[0;34m]\u001b[0m\u001b[0;34m,\u001b[0m \u001b[0mdf_1\u001b[0m\u001b[0;34m[\u001b[0m\u001b[0;34m'science_related'\u001b[0m\u001b[0;34m]\u001b[0m\u001b[0;34m)\u001b[0m\u001b[0;34m\u001b[0m\u001b[0;34m\u001b[0m\u001b[0m\n\u001b[0m\u001b[1;32m      7\u001b[0m \u001b[0mexternal_predict\u001b[0m\u001b[0;34m(\u001b[0m\u001b[0;34m'scitweets_export.tsv'\u001b[0m\u001b[0;34m,\u001b[0m \u001b[0;34m'science_related'\u001b[0m\u001b[0;34m,\u001b[0m \u001b[0mlst\u001b[0m\u001b[0;34m)\u001b[0m\u001b[0;34m\u001b[0m\u001b[0;34m\u001b[0m\u001b[0m\n",
            "\u001b[0;32m<ipython-input-91-cbcd86c4df5c>\u001b[0m in \u001b[0;36mlstm_bin\u001b[0;34m(text, labels, epochs)\u001b[0m\n\u001b[1;32m      4\u001b[0m \u001b[0;34m\u001b[0m\u001b[0m\n\u001b[1;32m      5\u001b[0m \u001b[0;34m\u001b[0m\u001b[0m\n\u001b[0;32m----> 6\u001b[0;31m     \u001b[0mtokenizer\u001b[0m \u001b[0;34m=\u001b[0m \u001b[0mTokenizer\u001b[0m\u001b[0;34m(\u001b[0m\u001b[0mnum_words\u001b[0m\u001b[0;34m=\u001b[0m\u001b[0mvocab_size\u001b[0m\u001b[0;34m,\u001b[0m \u001b[0moov_token\u001b[0m\u001b[0;34m=\u001b[0m\u001b[0;34m\"<OOV>\"\u001b[0m\u001b[0;34m)\u001b[0m\u001b[0;34m\u001b[0m\u001b[0;34m\u001b[0m\u001b[0m\n\u001b[0m\u001b[1;32m      7\u001b[0m     \u001b[0mtokenizer\u001b[0m\u001b[0;34m.\u001b[0m\u001b[0mfit_on_texts\u001b[0m\u001b[0;34m(\u001b[0m\u001b[0mtext\u001b[0m\u001b[0;34m)\u001b[0m\u001b[0;34m\u001b[0m\u001b[0;34m\u001b[0m\u001b[0m\n\u001b[1;32m      8\u001b[0m     \u001b[0msequences\u001b[0m \u001b[0;34m=\u001b[0m \u001b[0mtokenizer\u001b[0m\u001b[0;34m.\u001b[0m\u001b[0mtexts_to_sequences\u001b[0m\u001b[0;34m(\u001b[0m\u001b[0mtext\u001b[0m\u001b[0;34m)\u001b[0m\u001b[0;34m\u001b[0m\u001b[0;34m\u001b[0m\u001b[0m\n",
            "\u001b[0;31mNameError\u001b[0m: name 'vocab_size' is not defined"
          ]
        }
      ]
    },
    {
      "cell_type": "markdown",
      "source": [
        "## {CLAIM, REF} vs. {CONTEXT}"
      ],
      "metadata": {
        "id": "KlW8-moHZ7EJ"
      }
    },
    {
      "cell_type": "code",
      "execution_count": null,
      "metadata": {
        "id": "EKRVrkSRKJty",
        "colab": {
          "base_uri": "https://localhost:8080/",
          "height": 2100
        },
        "outputId": "1c726598-bb90-4f4b-aede-6be0c8cb3e11"
      },
      "outputs": [
        {
          "output_type": "stream",
          "name": "stdout",
          "text": [
            "155\n",
            "\n",
            "Optimisation pour : RandomForestClassifier\n",
            "Meilleurs paramètres : {'n_estimators': 200, 'max_depth': 27}\n",
            "[[523 157]\n",
            " [141 285]]\n",
            "F1 : 0.6552723907281605 \n",
            "Accuracy :0.7326449635804375 \n",
            " Precision : 0.650409471792917 \n",
            " Recall: 0.6604142502071251\n",
            "\n",
            "\n",
            "Optimisation pour : SVC\n",
            "Meilleurs paramètres : {'C': 45.5893533385458, 'kernel': 'rbf', 'gamma': 0.09171352587760948}\n",
            "[[513 167]\n",
            " [133 293]]\n",
            "F1 : 0.6768560243130977 \n",
            "Accuracy :0.7371621654733727 \n",
            " Precision : 0.6424345577733054 \n",
            " Recall: 0.7153637116818559\n",
            "\n",
            "\n",
            "Optimisation pour : MultinomialNB\n",
            "Meilleurs paramètres : {'alpha': 0.044565367633284114}\n",
            "[[576 104]\n",
            " [228 198]]\n",
            "F1 : 0.5549213863645276 \n",
            "Accuracy :0.7046266484364663 \n",
            " Precision : 0.6604706093095025 \n",
            " Recall: 0.47863131731565867\n",
            "\n",
            "\n",
            "Optimisation pour : KNeighborsClassifier\n",
            "Meilleurs paramètres : {'n_neighbors': 1, 'weights': 'distance'}\n",
            "[[509 171]\n",
            " [163 263]]\n",
            "F1 : 0.6462707670601219 \n",
            "Accuracy :0.7143838894687922 \n",
            " Precision : 0.6169129026750444 \n",
            " Recall: 0.6792013256006628\n",
            "\n",
            "\n",
            "Optimisation pour : DecisionTreeClassifier\n",
            "Meilleurs paramètres : {'max_depth': 25, 'criterion': 'log_loss'}\n",
            "[[242 438]\n",
            " [ 30 396]]\n",
            "F1 : 0.6356082491295567 \n",
            "Accuracy :0.5896579550485077 \n",
            " Precision : 0.482881569606094 \n",
            " Recall: 0.9300016570008285\n",
            "\n",
            "\n",
            "Optimisation pour : LogisticRegression\n",
            "Meilleurs paramètres : {'C': 16.779542758505855, 'solver': 'saga'}\n",
            "[[481 199]\n",
            " [135 291]]\n",
            "F1 : 0.6497522259443479 \n",
            "Accuracy :0.7067941800575329 \n",
            " Precision : 0.601374416128637 \n",
            " Recall: 0.7069240541286937\n",
            "\n",
            "\n",
            "Optimisation pour : xgboost\n",
            "Meilleurs paramètres : {'max_depth': 32, 'learning_rate': 0.09971637627746811, 'n_estimators': 152}\n",
            "[[558 122]\n",
            " [188 238]]\n",
            "F1 : 0.6209093198366002 \n",
            "Accuracy :0.7299323228313658 \n",
            " Precision : 0.6751338913842356 \n",
            " Recall: 0.5749141121237227\n",
            "\n"
          ]
        },
        {
          "output_type": "display_data",
          "data": {
            "text/plain": [
              "<Figure size 1000x600 with 1 Axes>"
            ],
            "image/png": "[encoded data removed]"
          },
          "metadata": {}
        },
        {
          "output_type": "stream",
          "name": "stdout",
          "text": [
            "\n",
            " External prediction\n",
            "\n",
            "XGBClassifier(base_score=None, booster=None, callbacks=None,\n",
            "              colsample_bylevel=None, colsample_bynode=None,\n",
            "              colsample_bytree=None, device=None, early_stopping_rounds=None,\n",
            "              enable_categorical=False, eval_metric=None, feature_types=None,\n",
            "              gamma=None, grow_policy=None, importance_type=None,\n",
            "              interaction_constraints=None, learning_rate=0.09971637627746811,\n",
            "              max_bin=None, max_cat_threshold=None, max_cat_to_onehot=None,\n",
            "              max_delta_step=None, max_depth=32, max_leaves=None,\n",
            "              min_child_weight=None, missing=nan, monotone_constraints=None,\n",
            "              multi_strategy=None, n_estimators=152, n_jobs=None,\n",
            "              num_parallel_tree=None, random_state=None, ...)\n",
            "\n",
            "              precision    recall  f1-score   support\n",
            "\n",
            "           0       0.65      0.63      0.64       877\n",
            "           1       0.33      0.35      0.34       466\n",
            "\n",
            "    accuracy                           0.53      1343\n",
            "   macro avg       0.49      0.49      0.49      1343\n",
            "weighted avg       0.54      0.53      0.54      1343\n",
            "\n",
            "[[556 321]\n",
            " [305 161]]\n"
          ]
        }
      ],
      "source": [
        "path = 'final.tsv'\n",
        "\n",
        "df_2 = initialize(path)\n",
        "df_2['text'] = df_2['text'].apply(full_clean)\n",
        "df_2 = duplicate_row(df_2)\n",
        "df_2['crc'] = df_2.apply(map_labels1, axis=1)\n",
        "vect_2 = tfidf_vectorizer(df_2['text'])\n",
        "\n",
        "bst = test_optuna_binary(vect_2, df_2['crc'])\n",
        "\n",
        "external_predict2('scitweets_export.tsv', bst)"
      ]
    },
    {
      "cell_type": "code",
      "execution_count": null,
      "metadata": {
        "id": "es1eqeUnLtF1",
        "colab": {
          "base_uri": "https://localhost:8080/",
          "height": 1649
        },
        "outputId": "222ed015-b099-40b9-e5fe-423372ee4922"
      },
      "outputs": [
        {
          "output_type": "stream",
          "name": "stdout",
          "text": [
            "1\n",
            "\n",
            "Optimisation pour : RandomForestClassifier\n",
            "Meilleurs paramètres : {'n_estimators': 112, 'max_depth': 30}\n",
            "[[116  59]\n",
            " [  7  86]]\n",
            "F1 : 0.6689721336290987 \n",
            "Accuracy :0.7237834988625645 \n",
            " Precision : 0.5729095982010469 \n",
            " Recall: 0.8069091741020361\n",
            "\n",
            "\n",
            "Optimisation pour : SVC\n",
            "Meilleurs paramètres : {'C': 0.4542116429512674, 'kernel': 'linear', 'gamma': 0.014989791873214144}\n",
            "[[113  62]\n",
            " [  9  84]]\n",
            "F1 : 0.6716799761448895 \n",
            "Accuracy :0.7096238140154247 \n",
            " Precision : 0.5532570017039351 \n",
            " Recall: 0.8563486616334934\n",
            "\n",
            "\n",
            "Optimisation pour : MultinomialNB\n",
            "Meilleurs paramètres : {'alpha': 0.0011059301977572149}\n",
            "[[152  23]\n",
            " [ 47  46]]\n",
            "F1 : 0.5968518035455501 \n",
            "Accuracy :0.7646951118015869 \n",
            " Precision : 0.7353444176177933 \n",
            " Recall: 0.5044840997483413\n",
            "\n",
            "\n",
            "Optimisation pour : KNeighborsClassifier\n",
            "Meilleurs paramètres : {'n_neighbors': 10, 'weights': 'distance'}\n",
            "[[156  19]\n",
            " [ 45  48]]\n",
            "F1 : 0.5811643209111563 \n",
            "Accuracy :0.752055706597126 \n",
            " Precision : 0.7029306955394826 \n",
            " Recall: 0.49569892473118277\n",
            "\n",
            "\n",
            "Optimisation pour : DecisionTreeClassifier\n",
            "Meilleurs paramètres : {'max_depth': 31, 'criterion': 'gini'}\n",
            "[[91 84]\n",
            " [ 6 87]]\n",
            "F1 : 0.6581083669377324 \n",
            "Accuracy :0.6917244631859291 \n",
            " Precision : 0.5362561928828266 \n",
            " Recall: 0.8563029055136124\n",
            "\n",
            "\n",
            "Optimisation pour : LogisticRegression\n",
            "Meilleurs paramètres : {'C': 0.80544398620679, 'solver': 'saga'}\n",
            "[[117  58]\n",
            " [  9  84]]\n",
            "F1 : 0.683304925920373 \n",
            "Accuracy :0.7312239915663319 \n",
            " Precision : 0.5777621926509143 \n",
            " Recall: 0.8369938229238161\n",
            "\n",
            "\n",
            "Optimisation pour : xgboost\n",
            "Meilleurs paramètres : {'max_depth': 13, 'learning_rate': 0.077494134788468, 'n_estimators': 149}\n",
            "[[161  14]\n",
            " [ 42  51]]\n",
            "F1 : 0.6235721405709103 \n",
            "Accuracy :0.7721772179992232 \n",
            " Precision : 0.7327867557279322 \n",
            " Recall: 0.5451841683825212\n",
            "\n"
          ]
        },
        {
          "output_type": "display_data",
          "data": {
            "text/plain": [
              "<Figure size 1000x600 with 1 Axes>"
            ],
            "image/png": "[encoded data removed]"
          },
          "metadata": {}
        }
      ],
      "source": [
        "path = 'scitweets_export.tsv'\n",
        "\n",
        "df_2 = initialize(path)\n",
        "df_2['text'] = df_2['text'].apply(full_clean)\n",
        "df_2.head()\n",
        "df_2 = duplicate_row(df_2)\n",
        "df_2['crc'] = df_2.apply(map_labels1, axis=1)\n",
        "vect_2 = tfidf_vectorizer(df_2['text'])\n",
        "\n",
        "bst = test_optuna_binary(vect_2, df_2['crc'])\n",
        "\n"
      ]
    },
    {
      "cell_type": "code",
      "execution_count": null,
      "metadata": {
        "collapsed": true,
        "id": "SnbS8PXfLzGv",
        "colab": {
          "base_uri": "https://localhost:8080/",
          "height": 1981
        },
        "outputId": "8df2b2b2-d2b0-472e-96f5-97c2079fbae9"
      },
      "outputs": [
        {
          "output_type": "stream",
          "name": "stdout",
          "text": [
            "155\n",
            "crc\n",
            "0    2826\n",
            "1    2706\n",
            "Name: count, dtype: int64\n",
            "\n",
            "crc\n",
            "1    2706\n",
            "0    2706\n",
            "Name: count, dtype: int64\n",
            "\n",
            "\n",
            "Optimisation pour : RandomForestClassifier\n",
            "Meilleurs paramètres : {'n_estimators': 107, 'max_depth': 19}\n",
            "[[455  86]\n",
            " [134 407]]\n",
            "F1 : 0.7858619424725273 \n",
            "Accuracy :0.7581314654473522 \n",
            " Precision : 0.7129542296805531 \n",
            " Recall: 0.887274488271685\n",
            "\n",
            "\n",
            "Optimisation pour : SVC\n",
            "Meilleurs paramètres : {'C': 0.6681142491418062, 'kernel': 'rbf', 'gamma': 0.043238214649252184}\n",
            "[[274 267]\n",
            " [ 38 503]]\n",
            "F1 : 0.7603626684753603 \n",
            "Accuracy :0.7054667752170581 \n",
            " Precision : 0.6411420274255019 \n",
            " Recall: 0.9342184419995772\n",
            "\n",
            "\n",
            "Optimisation pour : MultinomialNB\n",
            "Meilleurs paramètres : {'alpha': 0.6250585137355914}\n",
            "[[440 101]\n",
            " [160 381]]\n",
            "F1 : 0.7207036284134185 \n",
            "Accuracy :0.7250604622266825 \n",
            " Precision : 0.7370480527936715 \n",
            " Recall: 0.7110312323086262\n",
            "\n",
            "\n",
            "Optimisation pour : KNeighborsClassifier\n",
            "Meilleurs paramètres : {'n_neighbors': 3, 'weights': 'distance'}\n",
            "[[335 206]\n",
            " [ 64 477]]\n",
            "F1 : 0.7744460495028896 \n",
            "Accuracy :0.7614591493813823 \n",
            " Precision : 0.7405245884309941 \n",
            " Recall: 0.8204282079789375\n",
            "\n",
            "\n",
            "Optimisation pour : DecisionTreeClassifier\n",
            "Meilleurs paramètres : {'max_depth': 19, 'criterion': 'entropy'}\n",
            "[[238 303]\n",
            " [ 20 521]]\n",
            "F1 : 0.752440689655906 \n",
            "Accuracy :0.6825570102900992 \n",
            " Precision : 0.616898187864473 \n",
            " Recall: 0.9645203975145112\n",
            "\n",
            "\n",
            "Optimisation pour : LogisticRegression\n",
            "Meilleurs paramètres : {'C': 0.03327869817065374, 'solver': 'lbfgs'}\n",
            "[[289 252]\n",
            " [ 50 491]]\n",
            "F1 : 0.7554691239196915 \n",
            "Accuracy :0.7082387357634284 \n",
            " Precision : 0.6503308813848658 \n",
            " Recall: 0.9013341427314459\n",
            "\n",
            "\n",
            "Optimisation pour : xgboost\n",
            "Meilleurs paramètres : {'max_depth': 7, 'learning_rate': 0.037933007705750685, 'n_estimators': 166}\n",
            "[[295 246]\n",
            " [ 31 510]]\n",
            "F1 : 0.7815014440926152 \n",
            "Accuracy :0.7387236453815734 \n",
            " Precision : 0.671768270711861 \n",
            " Recall: 0.9342198061536993\n",
            "\n"
          ]
        },
        {
          "output_type": "display_data",
          "data": {
            "text/plain": [
              "<Figure size 1000x600 with 1 Axes>"
            ],
            "image/png": "[encoded data removed]"
          },
          "metadata": {}
        },
        {
          "output_type": "error",
          "ename": "NameError",
          "evalue": "name 'lst' is not defined",
          "traceback": [
            "\u001b[0;31m---------------------------------------------------------------------------\u001b[0m",
            "\u001b[0;31mNameError\u001b[0m                                 Traceback (most recent call last)",
            "\u001b[0;32m<ipython-input-118-362008a03b84>\u001b[0m in \u001b[0;36m<cell line: 0>\u001b[0;34m()\u001b[0m\n\u001b[1;32m     13\u001b[0m \u001b[0;34m\u001b[0m\u001b[0m\n\u001b[1;32m     14\u001b[0m \u001b[0mbst\u001b[0m \u001b[0;34m=\u001b[0m \u001b[0mtest_optuna_binary\u001b[0m\u001b[0;34m(\u001b[0m\u001b[0mvect_2\u001b[0m\u001b[0;34m,\u001b[0m \u001b[0mdf_2\u001b[0m\u001b[0;34m[\u001b[0m\u001b[0;34m'crc'\u001b[0m\u001b[0;34m]\u001b[0m\u001b[0;34m)\u001b[0m\u001b[0;34m\u001b[0m\u001b[0;34m\u001b[0m\u001b[0m\n\u001b[0;32m---> 15\u001b[0;31m \u001b[0mexternal_predict2\u001b[0m\u001b[0;34m(\u001b[0m\u001b[0;34m'scitweets_export.tsv'\u001b[0m\u001b[0;34m,\u001b[0m \u001b[0mlst\u001b[0m\u001b[0;34m)\u001b[0m\u001b[0;34m\u001b[0m\u001b[0;34m\u001b[0m\u001b[0m\n\u001b[0m",
            "\u001b[0;31mNameError\u001b[0m: name 'lst' is not defined"
          ]
        }
      ],
      "source": [
        "#downsample + duplication\n",
        "path = 'final.tsv'\n",
        "\n",
        "df_2 = initialize(path)\n",
        "df_2['text'] = df_2['text'].apply(full_clean)\n",
        "\n",
        "df_2['crc'] = df_2.apply(map_labels1, axis=1)\n",
        "\n",
        "df_2 = duplicate_row(df_2)\n",
        "\n",
        "df_2 = downsampling(df_2, 'crc')\n",
        "vect_2 = tfidf_vectorizer(df_2['text'])\n",
        "\n",
        "bst = test_optuna_binary(vect_2, df_2['crc'])\n",
        "external_predict2('scitweets_export.tsv', bst)\n"
      ]
    },
    {
      "cell_type": "code",
      "execution_count": null,
      "metadata": {
        "collapsed": true,
        "id": "I6bhKaZRQw70"
      },
      "outputs": [],
      "source": [
        "path = 'scitweets_export.tsv'\n",
        "\n",
        "df_2 = initialize(path)\n",
        "df_2['text'] = df_2['text'].apply(full_clean)\n",
        "df_2.head()\n",
        "df_2 = duplicate_row(df_2)\n",
        "df_2['crc'] = df_2.apply(map_labels1, axis=1)\n",
        "vect_2 = tfidf_vectorizer(df_2['text'])\n",
        "X,y = smote(df_2, vect_2, 'crc')\n",
        "bst = test_optuna_binary(X,y)\n",
        "external_predict2('scitweets_export.tsv', bst)\n"
      ]
    },
    {
      "cell_type": "code",
      "execution_count": null,
      "metadata": {
        "id": "D_g2V5acSYjG"
      },
      "outputs": [],
      "source": [
        "path = 'final.tsv'\n",
        "\n",
        "df_2 = initialize(path)\n",
        "df1, df2 = embedded_preprocess(df_2)\n",
        "embedded_classification(df1, df2)"
      ]
    },
    {
      "cell_type": "code",
      "source": [
        "path = 'final.tsv'\n",
        "\n",
        "df_2 = initialize(path)\n",
        "df1, df2 = embedded_preprocess(df_2)\n",
        "embedded_classification(df1, df2)\n",
        "external_predict2('scitweets_export.tsv',)"
      ],
      "metadata": {
        "id": "97RPmQZywZOe"
      },
      "execution_count": null,
      "outputs": []
    },
    {
      "cell_type": "code",
      "execution_count": null,
      "metadata": {
        "collapsed": true,
        "id": "PlKQ9c4NUDOL"
      },
      "outputs": [],
      "source": [
        "path = 'scitweets_export.tsv'\n",
        "\n",
        "df_2 = initialize(path)\n",
        "df1, df2 = embedded_preprocess(df_2)\n",
        "embedded_classification(df1, df2)"
      ]
    },
    {
      "cell_type": "code",
      "source": [
        "path = 'scitweets_export.tsv'\n",
        "\n",
        "df_2 = initialize(path)\n",
        "df_2['text'] = df_2['text'].apply(full_clean)\n",
        "df_2 = duplicate_row(df_2)\n",
        "\n",
        "df_2['crc'] = df_2.apply(map_labels1, axis=1)\n",
        "lst = lstm_bin(df_2['text'], df_2['crc'])\n"
      ],
      "metadata": {
        "id": "99DHofdpMQiA"
      },
      "execution_count": null,
      "outputs": []
    },
    {
      "cell_type": "markdown",
      "source": [
        "## {CLAIM} VS {REF} VS {CONTEXT}"
      ],
      "metadata": {
        "id": "7bWtvhcLZNqZ"
      }
    },
    {
      "cell_type": "markdown",
      "source": [
        "###Classification multi-classe MultiOuput avec labellisation Powerset"
      ],
      "metadata": {
        "id": "GVn1JpA8HKOd"
      }
    },
    {
      "cell_type": "code",
      "execution_count": null,
      "metadata": {
        "id": "xC2tbsi9XAEM",
        "collapsed": true
      },
      "outputs": [],
      "source": [
        "df = initialize('final.tsv')\n",
        "df = powerset(df)\n",
        "df.drop(df[df['science_related'] == 0].index, inplace=True)\n",
        "df['text'] = df['text'].apply(full_clean)\n",
        "df.reset_index()\n",
        "le, df = label_encoding(df)\n",
        "vect = tfidf_vectorizer(df['text'])\n",
        "\n",
        "X = vect\n",
        "y = df['powerset_label_encoded']\n",
        "y = np.array(y)\n",
        "best_model = test_multi_powerset(X, y)\n",
        "\n",
        "X_train_final, X_test_final, y_train_final, y_test_final = train_test_split(\n",
        "    X, y, test_size=0.2, random_state=42)\n",
        "\n",
        "best_model.fit(X_train_final, y_train_final)\n",
        "y_pred_final = best_model.predict(X_test_final)\n",
        "\n",
        "print(best_model)\n",
        "print(hamming_loss(y_test_final, y_pred_final))\n",
        "\n",
        "print(classification_report(y_test_final, y_pred_final, target_names=le.classes_, zero_division=0))\n"
      ]
    },
    {
      "cell_type": "code",
      "source": [
        "df = initialize('scitweets_export.tsv')\n",
        "df = powerset(df)\n",
        "df.drop(df[df['science_related'] == 0].index, inplace=True)\n",
        "df['text'] = df['text'].apply(full_clean)\n",
        "df.reset_index()\n",
        "le, df = label_encoding(df)\n",
        "vect = tfidf_vectorizer(df['text'])\n",
        "\n",
        "X = vect\n",
        "y = df['powerset_label_encoded']\n",
        "y = np.array(y)\n",
        "best_model = test_multi_powerset(X, y)\n",
        "\n",
        "X_train_final, X_test_final, y_train_final, y_test_final = train_test_split(\n",
        "    X, y, test_size=0.2, random_state=42)\n",
        "\n",
        "best_model.fit(X_train_final, y_train_final)\n",
        "y_pred_final = best_model.predict(X_test_final)\n",
        "\n",
        "print(best_model)\n",
        "print(hamming_loss(y_test_final, y_pred_final))\n",
        "\n",
        "print(classification_report(y_test_final, y_pred_final, target_names=le.classes_, zero_division=0))\n"
      ],
      "metadata": {
        "id": "zzoDKbA1wFyW"
      },
      "execution_count": null,
      "outputs": []
    },
    {
      "cell_type": "markdown",
      "source": [
        "###Classification chaînée"
      ],
      "metadata": {
        "id": "XfJAxTy-HVEH"
      }
    },
    {
      "cell_type": "code",
      "source": [
        "df = initialize('final.tsv')\n",
        "\n",
        "y = df[['scientific_claim', 'scientific_reference', 'scientific_context']].astype(int)\n",
        "df['text'] = df['text'].apply(full_clean)\n",
        "X = tfidf_vectorizer(df['text'])\n",
        "\n",
        "X_train, X_test, y_train, y_test = train_test_split(X, y, test_size=0.2, random_state=42)\n",
        "\n",
        "base_clf = xgboost.XGBClassifier()\n",
        "#base_clf = RandomForrestclassifier(class_weight='balanced', random_state=42)\n",
        "chain_model = ClassifierChain(base_clf, order='random', random_state=42)\n",
        "\n",
        "chain_model.fit(X_train, y_train)\n",
        "\n",
        "y_pred = chain_model.predict(X_test)\n",
        "\n",
        "labels = y.columns\n",
        "mcm = multilabel_confusion_matrix(y_test, y_pred)\n",
        "\n",
        "for i, label in enumerate(labels):\n",
        "    print(f\"\\n Matrice de confusion pour le label : {label}\")\n",
        "    print(mcm[i])\n",
        "\n",
        "print(\"Hamming Loss :\", hamming_loss(y_test, y_pred))\n",
        "print(\"\\nClassification report (multi-label, par label) :\")\n",
        "print(classification_report(y_test, y_pred, target_names=y.columns, zero_division=0))"
      ],
      "metadata": {
        "id": "NcnX26UG6GD3"
      },
      "execution_count": null,
      "outputs": []
    },
    {
      "cell_type": "markdown",
      "source": [
        "### Classification avec LSTM adaptée pour du multi-classe"
      ],
      "metadata": {
        "id": "s0-nVrihHX_u"
      }
    },
    {
      "cell_type": "code",
      "source": [
        "df = initialize('final.tsv')\n",
        "texts = df['text'].apply(full_clean)\n",
        "labels = df[['science_related', 'scientific_claim', 'scientific_reference']].astype(int)\n",
        "\n",
        "best_lstm_model = lstm_multi(texts, labels)"
      ],
      "metadata": {
        "id": "ZfUaH-4hAthV"
      },
      "execution_count": null,
      "outputs": []
    },
    {
      "cell_type": "markdown",
      "source": [
        "### Stratégie One VS the Rest"
      ],
      "metadata": {
        "id": "ACeMOIiKOqLT"
      }
    },
    {
      "cell_type": "code",
      "source": [
        "path = \"scitweets_export.tsv\"\n",
        "df_base = initialize(path)\n",
        "df_base[\"text\"] = df_base[\"text\"].apply(full_clean)\n",
        "df_base['label2'] = df_base.apply(map_labels2, axis=1)\n",
        "y_val = np.array(df_base['label2'][df_base['science_related'] == 1])\n",
        "y_val = [np.array(e) for e in y_val]"
      ],
      "metadata": {
        "id": "SK2dDLR8PALp"
      },
      "execution_count": null,
      "outputs": []
    },
    {
      "cell_type": "markdown",
      "source": [
        "Classification en utilisant les chaînes de classifieur binaires OneVsTheRest"
      ],
      "metadata": {
        "id": "v5JA0SKxgtG3"
      }
    },
    {
      "cell_type": "code",
      "source": [
        "path = \"final.tsv\"\n",
        "df_3= initialize(path)\n",
        "df_3[\"text\"] = df_3[\"text\"].apply(full_clean)\n",
        "vect_3 = tfidf_vectorizer(df_3[\"text\"])\n",
        "df_3['label2'] = df_3.apply(map_labels2, axis=1)\n",
        "y = np.array(df_3['label2'])\n",
        "y = [np.array(e) for e in y]\n",
        "X_val = tfidf_vectorizer(df_base[\"text\"][df_base['science_related'] == 1])\n",
        "bst = test_optuna_multilabel(vect_3, np.array(y),X_val,np.array(y_val))"
      ],
      "metadata": {
        "id": "AJoKS94WgsWB"
      },
      "execution_count": null,
      "outputs": []
    },
    {
      "cell_type": "markdown",
      "source": [
        "Même stratégie mais avec des prétraitements différents"
      ],
      "metadata": {
        "id": "mbaICh0tctjn"
      }
    },
    {
      "cell_type": "code",
      "source": [
        "newX = tfidf_vectorizer2(df_3[\"text\"])\n",
        "X_val = tfidf_vectorizer2(df_base[\"text\"][df_base['science_related'] == 1])\n",
        "bst = test_optuna_multilabel(newX, np.array(y),X_val,np.array(y_val))"
      ],
      "metadata": {
        "id": "WKQb5MTIcyAu"
      },
      "execution_count": null,
      "outputs": []
    },
    {
      "cell_type": "markdown",
      "source": [
        "### Powerset One Vs One"
      ],
      "metadata": {
        "id": "ZQBYZf2CV0Jx"
      }
    },
    {
      "cell_type": "code",
      "source": [
        "path = \"scitweets_export.tsv\"\n",
        "df_base = initialize(path)\n",
        "df_base[\"text\"] = df_base[\"text\"].apply(full_clean)\n",
        "df_base['label2'] = df_base.apply(map_labels2, axis=1)\n",
        "y_val = np.array(df_base['label2'][df_base['science_related'] == 1])\n",
        "y_val = [np.array(e) for e in y_val]"
      ],
      "metadata": {
        "id": "9WWt-9iKV0qz"
      },
      "execution_count": null,
      "outputs": []
    },
    {
      "cell_type": "code",
      "source": [
        "X = tfidf_vectorizer(df_base[\"text\"][df_base['science_related'] == 1])\n",
        "\n",
        "X_train,X_test,y_train,y_test = train_test_split(X,np.array(y_val),train_size=0.8,test_size=0.2,random_state=7)\n",
        "\n",
        "powerset = LabelPowerset()\n",
        "new_y = powerset.transform(y_train)\n",
        "new_y_test = powerset.transform(y_test)\n",
        "clf = OneVsOneClassifier(LogisticRegression(max_iter=1000))\n",
        "clf.fit(X_train, new_y)\n",
        "y_pred = clf.predict(X_test)\n",
        "print(type(y_pred))\n",
        "print(y_pred.shape)"
      ],
      "metadata": {
        "id": "CSIoXeMJzRIH"
      },
      "execution_count": null,
      "outputs": []
    },
    {
      "cell_type": "code",
      "source": [
        "confusion_matrix(new_y_test,y_pred)"
      ],
      "metadata": {
        "id": "xKwupVJh0jE9"
      },
      "execution_count": null,
      "outputs": []
    },
    {
      "cell_type": "code",
      "source": [
        "path = \"final.tsv\"\n",
        "df_3= initialize(path)\n",
        "df_3[\"text\"] = df_3[\"text\"].apply(full_clean)\n",
        "vect_3 = tfidf_vectorizer(df_3[\"text\"][df_3[\"science_related\"] == 1])\n",
        "df_3['label2'] = df_3.apply(map_labels2, axis=1)\n",
        "y = np.array(df_3['label2'][df_3[\"science_related\"] == 1])\n",
        "y = [np.array(e) for e in y]\n",
        "X_val = tfidf_vectorizer(df_base[\"text\"][df_base['science_related'] == 1])\n",
        "bst = test_optuna_powerset(vect_3, np.array(y),X_val,np.array(y_val))"
      ],
      "metadata": {
        "id": "x6cYIJMJtodp"
      },
      "execution_count": null,
      "outputs": []
    }
  ],
  "metadata": {
    "colab": {
      "provenance": [],
      "gpuType": "V6E1",
      "collapsed_sections": [
        "tMacHuE86A0D"
      ],
      "include_colab_link": true
    },
    "kernelspec": {
      "display_name": "Python 3",
      "name": "python3"
    },
    "language_info": {
      "name": "python"
    },
    "accelerator": "TPU"
  },
  "nbformat": 4,
  "nbformat_minor": 0
}